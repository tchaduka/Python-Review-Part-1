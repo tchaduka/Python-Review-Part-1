{
 "cells": [
  {
   "cell_type": "markdown",
   "id": "d50a2161",
   "metadata": {},
   "source": [
    "# Python Review #1\n",
    "\n",
    "Using what you learned in the modules, answer the questions below. Take your time and use all the information in the modules as your guide and resource. This isn't about memorization - this is about practicing skills! Good Luck!"
   ]
  },
  {
   "cell_type": "markdown",
   "id": "25a8ea5e",
   "metadata": {},
   "source": [
    "## Module 1 Review"
   ]
  },
  {
   "cell_type": "markdown",
   "id": "68af75a9",
   "metadata": {},
   "source": [
    "#### COMMENTS\n",
    "\n",
    "Comments are not executed with the rest of the code when you run the cell. These are notes that give context to the code. "
   ]
  },
  {
   "cell_type": "markdown",
   "id": "03b7555a",
   "metadata": {},
   "source": [
    "1. Open any book, document, brochure, email around you. Take the first two sentences you find. Write the two sentences in a cell below. Assign one sentence to a variable name (save it as a string) and make the other sentence a comment. Run the cell. \n",
    "2. Switch the sentences (the first sentence is now a comment, the second sentence is now the string) and re-run the cell."
   ]
  },
  {
   "cell_type": "code",
   "execution_count": 144,
   "id": "588eaf65",
   "metadata": {},
   "outputs": [
    {
     "name": "stdout",
     "output_type": "stream",
     "text": [
      "Tinashe Lance Chaduka\n"
     ]
    }
   ],
   "source": [
    "print(\"Tinashe Lance Chaduka\")# this is my name"
   ]
  },
  {
   "cell_type": "code",
   "execution_count": 2,
   "id": "bba581f5",
   "metadata": {},
   "outputs": [
    {
     "name": "stdout",
     "output_type": "stream",
     "text": [
      "15\n"
     ]
    }
   ],
   "source": [
    "print(1 + 2 + 3 + 4 + 5) # sumation of numbers"
   ]
  },
  {
   "cell_type": "code",
   "execution_count": 3,
   "id": "3254aa24",
   "metadata": {},
   "outputs": [
    {
     "name": "stdout",
     "output_type": "stream",
     "text": [
      "2\n"
     ]
    }
   ],
   "source": [
    "print(2 % 8) # print 2 to the power of 8"
   ]
  },
  {
   "cell_type": "markdown",
   "id": "17740879",
   "metadata": {},
   "source": [
    "#### DATA TYPES \n",
    "\n",
    "There are three data types that we will use continuously - integer, float, string. Each cell below includes one of these three data types. Using a comment, write the type of data in each cell next to the value. "
   ]
  },
  {
   "cell_type": "code",
   "execution_count": 5,
   "id": "5a62d75a",
   "metadata": {},
   "outputs": [
    {
     "data": {
      "text/plain": [
       "'Hello'"
      ]
     },
     "execution_count": 5,
     "metadata": {},
     "output_type": "execute_result"
    }
   ],
   "source": [
    "\"Hello\" # this is a string with double quotes "
   ]
  },
  {
   "cell_type": "code",
   "execution_count": 6,
   "id": "450288c5",
   "metadata": {},
   "outputs": [
    {
     "data": {
      "text/plain": [
       "156"
      ]
     },
     "execution_count": 6,
     "metadata": {},
     "output_type": "execute_result"
    }
   ],
   "source": [
    "156 # this is an integer becuase it has a whole number"
   ]
  },
  {
   "cell_type": "code",
   "execution_count": 7,
   "id": "88978aba",
   "metadata": {},
   "outputs": [
    {
     "data": {
      "text/plain": [
       "'W45'"
      ]
     },
     "execution_count": 7,
     "metadata": {},
     "output_type": "execute_result"
    }
   ],
   "source": [
    "\"W45\" # this is a string with double quotes"
   ]
  },
  {
   "cell_type": "code",
   "execution_count": null,
   "id": "3377e32b",
   "metadata": {},
   "outputs": [],
   "source": [
    "12.567 # this is a float becuase it has a decimal point"
   ]
  },
  {
   "cell_type": "code",
   "execution_count": 8,
   "id": "a26454e1",
   "metadata": {},
   "outputs": [
    {
     "data": {
      "text/plain": [
       "'198 Spring Street, San Deigo, CA'"
      ]
     },
     "execution_count": 8,
     "metadata": {},
     "output_type": "execute_result"
    }
   ],
   "source": [
    "\"198 Spring Street, San Deigo, CA\" # the address in string format with double quotes"
   ]
  },
  {
   "cell_type": "code",
   "execution_count": 9,
   "id": "e3739e97",
   "metadata": {},
   "outputs": [
    {
     "data": {
      "text/plain": [
       "1.87"
      ]
     },
     "execution_count": 9,
     "metadata": {},
     "output_type": "execute_result"
    }
   ],
   "source": [
    "1.87 # this is a float becuase it has a decimal point"
   ]
  },
  {
   "cell_type": "code",
   "execution_count": null,
   "id": "6d760ee7",
   "metadata": {},
   "outputs": [],
   "source": [
    "0.00000435 # this is a float becuase it has a decimal point"
   ]
  },
  {
   "cell_type": "code",
   "execution_count": 10,
   "id": "64358c93",
   "metadata": {},
   "outputs": [
    {
     "data": {
      "text/plain": [
       "'628'"
      ]
     },
     "execution_count": 10,
     "metadata": {},
     "output_type": "execute_result"
    }
   ],
   "source": [
    "\"628\" # this is a string with double quotes"
   ]
  },
  {
   "cell_type": "code",
   "execution_count": 11,
   "id": "835878ba",
   "metadata": {},
   "outputs": [
    {
     "data": {
      "text/plain": [
       "1.111111114"
      ]
     },
     "execution_count": 11,
     "metadata": {},
     "output_type": "execute_result"
    }
   ],
   "source": [
    "1.111111114 # this is a float becuase it has a decimal point"
   ]
  },
  {
   "cell_type": "code",
   "execution_count": 12,
   "id": "14b73147",
   "metadata": {},
   "outputs": [
    {
     "data": {
      "text/plain": [
       "4560886543"
      ]
     },
     "execution_count": 12,
     "metadata": {},
     "output_type": "execute_result"
    }
   ],
   "source": [
    "4560886543 # this is a integer becuase it has a whole number"
   ]
  },
  {
   "cell_type": "markdown",
   "id": "08e1fea6",
   "metadata": {},
   "source": [
    "#### VARIABLES\n",
    "\n",
    "Variables hold information or a data value. To assign a value to a variable, use a single \"=\". Variables should be given meaningful names, can start with a letter or underscore (no numbers), and should follow <b>CamelType</b> or <b>snake_type</b> formatting. \n",
    "\n",
    "1. Write your birthday in longform (Month Day, Year) and save the value to a variable. Choose an appropriate name. \n",
    "2. Write the name of your favorite book. Save the value to a variable. Choose an appropriate name. \n",
    "3. Write the number of times you've eaten pizza in the past two weeks (0 can be an answer). Save the value to a variable. Choose an appropriate name. \n",
    "4. Write a float value with at least three digits after the decimal point. Save the value to a variable. Choose an appropriate name.\n",
    "5. Pick two additional sentences from the item referenced in the comments section. Write out the sentences and save them to a variable. Choose an appropriate name."
   ]
  },
  {
   "cell_type": "code",
   "execution_count": 14,
   "id": "062d9d1b",
   "metadata": {},
   "outputs": [
    {
     "name": "stdout",
     "output_type": "stream",
     "text": [
      "May 7th 1979\n"
     ]
    }
   ],
   "source": [
    "my_birth_day = \"May 7th 1979\" # my birthday in longform as a string in double quotes\n",
    "\n",
    "print(my_birth_day)"
   ]
  },
  {
   "cell_type": "code",
   "execution_count": 15,
   "id": "e2db48d1",
   "metadata": {},
   "outputs": [
    {
     "name": "stdout",
     "output_type": "stream",
     "text": [
      "Data Analytics basics\n"
     ]
    }
   ],
   "source": [
    "my_favorite_book = 'Data Analytics basics' # my favorite book in a string in single quotes\n",
    "\n",
    "print(my_favorite_book)"
   ]
  },
  {
   "cell_type": "code",
   "execution_count": 33,
   "id": "9818b7d7",
   "metadata": {},
   "outputs": [
    {
     "name": "stdout",
     "output_type": "stream",
     "text": [
      "2\n"
     ]
    }
   ],
   "source": [
    "bi_weekly_times_eaten_pizza = 2 # the number of times i have eaten pizza last two weeks\n",
    "\n",
    "print(bi_weekly_times_eaten_pizza)\n"
   ]
  },
  {
   "cell_type": "code",
   "execution_count": 26,
   "id": "92fdbce0",
   "metadata": {},
   "outputs": [
    {
     "name": "stdout",
     "output_type": "stream",
     "text": [
      "123.456\n"
     ]
    }
   ],
   "source": [
    "num = round(123.45622222, 3) # printing the answer to three decimal point\n",
    "\n",
    "print(num)\n",
    "\n"
   ]
  },
  {
   "cell_type": "code",
   "execution_count": null,
   "id": "933c0039",
   "metadata": {},
   "outputs": [],
   "source": []
  },
  {
   "cell_type": "markdown",
   "id": "86d96a13",
   "metadata": {},
   "source": [
    "#### PRINT AND TYPE FUNCTIONS\n",
    "\n",
    "The print function is crucial to your python knowledge. The print() function allows you to return a specific item, statement, word, number, etc. It is used to return (print, output, etc) information. Using all the variables you created in the step above, print each one in an individual cell. \n",
    "\n",
    "The type function allows you to return the type of data saved to a specific variable. Use the type() function to determine the type of data stored to each of your variables. "
   ]
  },
  {
   "cell_type": "code",
   "execution_count": 31,
   "id": "f0d6e35a",
   "metadata": {},
   "outputs": [
    {
     "name": "stdout",
     "output_type": "stream",
     "text": [
      "May 7th 1979\n"
     ]
    },
    {
     "data": {
      "text/plain": [
       "str"
      ]
     },
     "execution_count": 31,
     "metadata": {},
     "output_type": "execute_result"
    }
   ],
   "source": [
    "print(my_birth_day) # printing my birthday\n",
    "type(my_birth_day) # data type saved to my birthday value"
   ]
  },
  {
   "cell_type": "code",
   "execution_count": 34,
   "id": "987beb96",
   "metadata": {},
   "outputs": [
    {
     "name": "stdout",
     "output_type": "stream",
     "text": [
      "2\n"
     ]
    },
    {
     "data": {
      "text/plain": [
       "int"
      ]
     },
     "execution_count": 34,
     "metadata": {},
     "output_type": "execute_result"
    }
   ],
   "source": [
    "print(bi_weekly_times_eaten_pizza) # printing the number is times I ate pizza for the past twoo weeks\n",
    "type(bi_weekly_times_eaten_pizza) # data type saved to the number i ate pizza for the last two weeks"
   ]
  },
  {
   "cell_type": "code",
   "execution_count": 35,
   "id": "2c082463",
   "metadata": {},
   "outputs": [
    {
     "name": "stdout",
     "output_type": "stream",
     "text": [
      "Data Analytics basics\n"
     ]
    },
    {
     "data": {
      "text/plain": [
       "str"
      ]
     },
     "execution_count": 35,
     "metadata": {},
     "output_type": "execute_result"
    }
   ],
   "source": [
    "print(my_favorite_book) # printing my favorite book\n",
    "type(my_favorite_book) # data type of my favorite book"
   ]
  },
  {
   "cell_type": "code",
   "execution_count": 36,
   "id": "a9eaa5a2",
   "metadata": {},
   "outputs": [
    {
     "name": "stdout",
     "output_type": "stream",
     "text": [
      "123.456\n"
     ]
    },
    {
     "data": {
      "text/plain": [
       "float"
      ]
     },
     "execution_count": 36,
     "metadata": {},
     "output_type": "execute_result"
    }
   ],
   "source": [
    "print(num) # reducing a with a lot of decimal point into three decimal point\n",
    "type(num) # data type of a number "
   ]
  },
  {
   "cell_type": "markdown",
   "id": "aeae11a2",
   "metadata": {},
   "source": [
    "#### ARITHMETIC OPERATORS\n",
    "\n",
    "Arithmetic operators allow you to do simple math with Python. Operators include: \n",
    "\n",
    "    +  : addition\n",
    "    -  : subtraction\n",
    "    *  : multiplication\n",
    "    /  : division\n",
    "    %  : modulo (finds the remainder of a division)\n",
    "    ** : exponent\n",
    "    // : floor division\n",
    "    \n",
    "In the cells below, insert any of the above operators to complete the equation. Print the result of the equation. "
   ]
  },
  {
   "cell_type": "code",
   "execution_count": 37,
   "id": "39040a42",
   "metadata": {},
   "outputs": [
    {
     "data": {
      "text/plain": [
       "11"
      ]
     },
     "execution_count": 37,
     "metadata": {},
     "output_type": "execute_result"
    }
   ],
   "source": [
    "9 + 2 # addition operator"
   ]
  },
  {
   "cell_type": "code",
   "execution_count": 38,
   "id": "10556873",
   "metadata": {},
   "outputs": [
    {
     "data": {
      "text/plain": [
       "111.0"
      ]
     },
     "execution_count": 38,
     "metadata": {},
     "output_type": "execute_result"
    }
   ],
   "source": [
    "189.0 - 78 # subtraction operator"
   ]
  },
  {
   "cell_type": "code",
   "execution_count": 39,
   "id": "08146d84",
   "metadata": {},
   "outputs": [
    {
     "data": {
      "text/plain": [
       "6"
      ]
     },
     "execution_count": 39,
     "metadata": {},
     "output_type": "execute_result"
    }
   ],
   "source": [
    "3 * 2 # multiplication operator"
   ]
  },
  {
   "cell_type": "code",
   "execution_count": 43,
   "id": "f7078161",
   "metadata": {},
   "outputs": [
    {
     "data": {
      "text/plain": [
       "6561"
      ]
     },
     "execution_count": 43,
     "metadata": {},
     "output_type": "execute_result"
    }
   ],
   "source": [
    "3 ** 8 # exponent operator"
   ]
  },
  {
   "cell_type": "code",
   "execution_count": null,
   "id": "dab7ca1c",
   "metadata": {},
   "outputs": [],
   "source": [
    "999.0027 2736.83"
   ]
  },
  {
   "cell_type": "code",
   "execution_count": 42,
   "id": "fc2f6a96",
   "metadata": {},
   "outputs": [
    {
     "data": {
      "text/plain": [
       "23.238095238095237"
      ]
     },
     "execution_count": 42,
     "metadata": {},
     "output_type": "execute_result"
    }
   ],
   "source": [
    "488 / 21 # division operator"
   ]
  },
  {
   "cell_type": "code",
   "execution_count": 44,
   "id": "9a967945",
   "metadata": {},
   "outputs": [
    {
     "data": {
      "text/plain": [
       "3"
      ]
     },
     "execution_count": 44,
     "metadata": {},
     "output_type": "execute_result"
    }
   ],
   "source": [
    "11 % 8 # modulo (finds the remainder of a division) operator"
   ]
  },
  {
   "cell_type": "code",
   "execution_count": 45,
   "id": "42e5ed80",
   "metadata": {},
   "outputs": [
    {
     "data": {
      "text/plain": [
       "5"
      ]
     },
     "execution_count": 45,
     "metadata": {},
     "output_type": "execute_result"
    }
   ],
   "source": [
    "45 // 9 # floor division operator"
   ]
  },
  {
   "cell_type": "code",
   "execution_count": 46,
   "id": "49eb7508",
   "metadata": {},
   "outputs": [
    {
     "data": {
      "text/plain": [
       "35"
      ]
     },
     "execution_count": 46,
     "metadata": {},
     "output_type": "execute_result"
    }
   ],
   "source": [
    "808 // 23 # floor division operator"
   ]
  },
  {
   "cell_type": "code",
   "execution_count": null,
   "id": "f8484957",
   "metadata": {},
   "outputs": [],
   "source": [
    "4 - 1 # subtraction operator"
   ]
  },
  {
   "cell_type": "code",
   "execution_count": 49,
   "id": "459eaeb0",
   "metadata": {},
   "outputs": [
    {
     "data": {
      "text/plain": [
       "-28"
      ]
     },
     "execution_count": 49,
     "metadata": {},
     "output_type": "execute_result"
    }
   ],
   "source": [
    "0 / 28 # division operator"
   ]
  },
  {
   "cell_type": "code",
   "execution_count": 71,
   "id": "95bced8c",
   "metadata": {},
   "outputs": [
    {
     "data": {
      "text/plain": [
       "1417"
      ]
     },
     "execution_count": 71,
     "metadata": {},
     "output_type": "execute_result"
    }
   ],
   "source": [
    "435 + 982 # addition operator"
   ]
  },
  {
   "cell_type": "code",
   "execution_count": 72,
   "id": "e8528a78",
   "metadata": {},
   "outputs": [
    {
     "data": {
      "text/plain": [
       "18"
      ]
     },
     "execution_count": 72,
     "metadata": {},
     "output_type": "execute_result"
    }
   ],
   "source": [
    "6 * 3 # multiplication operator"
   ]
  },
  {
   "cell_type": "code",
   "execution_count": 73,
   "id": "adf2aa7d",
   "metadata": {},
   "outputs": [
    {
     "data": {
      "text/plain": [
       "0.0"
      ]
     },
     "execution_count": 73,
     "metadata": {},
     "output_type": "execute_result"
    }
   ],
   "source": [
    "1 // 1.5 # floor division operator"
   ]
  },
  {
   "cell_type": "code",
   "execution_count": 74,
   "id": "636e2e43",
   "metadata": {},
   "outputs": [
    {
     "data": {
      "text/plain": [
       "1"
      ]
     },
     "execution_count": 74,
     "metadata": {},
     "output_type": "execute_result"
    }
   ],
   "source": [
    "65 % 2 # modulo (finds the remainder of a division) operator"
   ]
  },
  {
   "cell_type": "code",
   "execution_count": 75,
   "id": "a6a68f4d",
   "metadata": {},
   "outputs": [
    {
     "data": {
      "text/plain": [
       "19"
      ]
     },
     "execution_count": 75,
     "metadata": {},
     "output_type": "execute_result"
    }
   ],
   "source": [
    "10 + 9 # addition operator"
   ]
  },
  {
   "cell_type": "code",
   "execution_count": 76,
   "id": "a57f3f9a",
   "metadata": {},
   "outputs": [
    {
     "data": {
      "text/plain": [
       "2"
      ]
     },
     "execution_count": 76,
     "metadata": {},
     "output_type": "execute_result"
    }
   ],
   "source": [
    "245 % 3 # modulo (finds the remainder of a division) operator"
   ]
  },
  {
   "cell_type": "code",
   "execution_count": 77,
   "id": "84b3d549",
   "metadata": {},
   "outputs": [
    {
     "data": {
      "text/plain": [
       "33"
      ]
     },
     "execution_count": 77,
     "metadata": {},
     "output_type": "execute_result"
    }
   ],
   "source": [
    "33 - 0 # subtraction operator"
   ]
  },
  {
   "cell_type": "code",
   "execution_count": 80,
   "id": "a58d40d6",
   "metadata": {},
   "outputs": [
    {
     "data": {
      "text/plain": [
       "81"
      ]
     },
     "execution_count": 80,
     "metadata": {},
     "output_type": "execute_result"
    }
   ],
   "source": [
    "9 ** 2 # exponent operator"
   ]
  },
  {
   "cell_type": "code",
   "execution_count": 81,
   "id": "d0db87ca",
   "metadata": {},
   "outputs": [
    {
     "data": {
      "text/plain": [
       "11"
      ]
     },
     "execution_count": 81,
     "metadata": {},
     "output_type": "execute_result"
    }
   ],
   "source": [
    "89 - 78 # subtraction operator"
   ]
  },
  {
   "cell_type": "markdown",
   "id": "4847f855",
   "metadata": {},
   "source": [
    "#### COMPOUND OPERATORS\n",
    "\n",
    "Change the value of a variable and re-assign the new value to the same variable. This method saves you a step; all compound operators follow the same pattern:\n",
    "    \n",
    "    variable_a = variable_a + 10 <<<--->>> variable_a += 10\n",
    "    \n",
    "variable_a is now equal to the original value of variable_a plus 10. Compound operators include:\n",
    "\n",
    "    +=  : a = a + b\n",
    "    -=  : a = a - b\n",
    "    *=  : a = a * b\n",
    "    /=  : a = a / b\n",
    "    %=  : a = a % b\n",
    "    **= : a = a ** b\n",
    "    //= : a = a // b\n",
    "    \n",
    "Convert all the equations below to use compound operators. "
   ]
  },
  {
   "cell_type": "code",
   "execution_count": 50,
   "id": "e404834e",
   "metadata": {},
   "outputs": [
    {
     "name": "stdout",
     "output_type": "stream",
     "text": [
      "4\n"
     ]
    }
   ],
   "source": [
    "a = 9 \n",
    "a //= 2\n",
    "print(a)"
   ]
  },
  {
   "cell_type": "code",
   "execution_count": 51,
   "id": "822faf79",
   "metadata": {},
   "outputs": [
    {
     "name": "stdout",
     "output_type": "stream",
     "text": [
      "267.0\n"
     ]
    }
   ],
   "source": [
    "b = 189.0 \n",
    "b += 78\n",
    "print(b)"
   ]
  },
  {
   "cell_type": "code",
   "execution_count": 52,
   "id": "6258bd09",
   "metadata": {},
   "outputs": [
    {
     "name": "stdout",
     "output_type": "stream",
     "text": [
      "1\n"
     ]
    }
   ],
   "source": [
    "c = 3 \n",
    "c -= 2\n",
    "print(c)"
   ]
  },
  {
   "cell_type": "code",
   "execution_count": 53,
   "id": "4f75b3dd",
   "metadata": {},
   "outputs": [
    {
     "name": "stdout",
     "output_type": "stream",
     "text": [
      "6\n"
     ]
    }
   ],
   "source": [
    "d = 5 \n",
    "d += 1\n",
    "print(d)"
   ]
  },
  {
   "cell_type": "code",
   "execution_count": 54,
   "id": "7ccd412b",
   "metadata": {},
   "outputs": [
    {
     "name": "stdout",
     "output_type": "stream",
     "text": [
      "0\n"
     ]
    }
   ],
   "source": [
    "e = 8 \n",
    "e *= 0\n",
    "print(e)"
   ]
  },
  {
   "cell_type": "code",
   "execution_count": 55,
   "id": "85927104",
   "metadata": {},
   "outputs": [
    {
     "name": "stdout",
     "output_type": "stream",
     "text": [
      "0\n"
     ]
    }
   ],
   "source": [
    "f = 4 \n",
    "f %= 1\n",
    "print(f)"
   ]
  },
  {
   "cell_type": "code",
   "execution_count": 56,
   "id": "c98f0c5b",
   "metadata": {},
   "outputs": [
    {
     "name": "stdout",
     "output_type": "stream",
     "text": [
      "2\n"
     ]
    }
   ],
   "source": [
    "g = 5 \n",
    "g //= 2\n",
    "print(g)"
   ]
  },
  {
   "cell_type": "code",
   "execution_count": 57,
   "id": "5976228b",
   "metadata": {},
   "outputs": [
    {
     "name": "stdout",
     "output_type": "stream",
     "text": [
      "2.0\n"
     ]
    }
   ],
   "source": [
    "h = 6 \n",
    "h /= 3\n",
    "print(h)"
   ]
  },
  {
   "cell_type": "code",
   "execution_count": 58,
   "id": "42dc1e45",
   "metadata": {},
   "outputs": [
    {
     "name": "stdout",
     "output_type": "stream",
     "text": [
      "18\n"
     ]
    }
   ],
   "source": [
    "i = 9 \n",
    "i *= 2\n",
    "print(i)"
   ]
  },
  {
   "cell_type": "code",
   "execution_count": 59,
   "id": "c50af2d5",
   "metadata": {},
   "outputs": [
    {
     "name": "stdout",
     "output_type": "stream",
     "text": [
      "9\n"
     ]
    }
   ],
   "source": [
    "j = 10 \n",
    "j -= 1\n",
    "print(j)"
   ]
  },
  {
   "cell_type": "code",
   "execution_count": null,
   "id": "ebad1582",
   "metadata": {},
   "outputs": [],
   "source": [
    "k = 5 \n",
    "k **= 4\n",
    "print(k)"
   ]
  },
  {
   "cell_type": "code",
   "execution_count": 60,
   "id": "24f4ccb5",
   "metadata": {},
   "outputs": [
    {
     "name": "stdout",
     "output_type": "stream",
     "text": [
      "6\n"
     ]
    }
   ],
   "source": [
    "l = 8 \n",
    "l -= 2\n",
    "print(l)"
   ]
  },
  {
   "cell_type": "code",
   "execution_count": 61,
   "id": "f2b5e89e",
   "metadata": {},
   "outputs": [
    {
     "name": "stdout",
     "output_type": "stream",
     "text": [
      "12\n"
     ]
    }
   ],
   "source": [
    "m = 10 \n",
    "m += 2\n",
    "print(m)"
   ]
  },
  {
   "cell_type": "code",
   "execution_count": 62,
   "id": "1a964bed",
   "metadata": {},
   "outputs": [
    {
     "name": "stdout",
     "output_type": "stream",
     "text": [
      "18.7\n"
     ]
    }
   ],
   "source": [
    "n = 11 \n",
    "n *= 1.7\n",
    "print(n)"
   ]
  },
  {
   "cell_type": "code",
   "execution_count": 63,
   "id": "cef300d5",
   "metadata": {},
   "outputs": [
    {
     "name": "stdout",
     "output_type": "stream",
     "text": [
      "6\n"
     ]
    }
   ],
   "source": [
    "o = 9 \n",
    "o -= 3\n",
    "print(o)"
   ]
  },
  {
   "cell_type": "code",
   "execution_count": 65,
   "id": "4ac33b3d",
   "metadata": {},
   "outputs": [
    {
     "name": "stdout",
     "output_type": "stream",
     "text": [
      "2401\n"
     ]
    }
   ],
   "source": [
    "p = 7 \n",
    "p **= 4\n",
    "print(p)"
   ]
  },
  {
   "cell_type": "code",
   "execution_count": 66,
   "id": "6623aad6",
   "metadata": {},
   "outputs": [
    {
     "name": "stdout",
     "output_type": "stream",
     "text": [
      "1\n"
     ]
    }
   ],
   "source": [
    "q = 11 \n",
    "q %= 2\n",
    "print(q)"
   ]
  },
  {
   "cell_type": "code",
   "execution_count": 67,
   "id": "73fc9417",
   "metadata": {},
   "outputs": [
    {
     "name": "stdout",
     "output_type": "stream",
     "text": [
      "2.0\n"
     ]
    }
   ],
   "source": [
    "r = 8 \n",
    "r /= 4\n",
    "print(r)"
   ]
  },
  {
   "cell_type": "code",
   "execution_count": 64,
   "id": "a7b938dc",
   "metadata": {},
   "outputs": [
    {
     "name": "stdout",
     "output_type": "stream",
     "text": [
      "25\n"
     ]
    }
   ],
   "source": [
    "s = 5 \n",
    "s *= 5\n",
    "print(s)"
   ]
  },
  {
   "cell_type": "code",
   "execution_count": 68,
   "id": "0d726462",
   "metadata": {},
   "outputs": [
    {
     "name": "stdout",
     "output_type": "stream",
     "text": [
      "2\n"
     ]
    }
   ],
   "source": [
    "t = 7 \n",
    "t %= 5\n",
    "print(t)"
   ]
  },
  {
   "cell_type": "code",
   "execution_count": 69,
   "id": "8b14a330",
   "metadata": {},
   "outputs": [
    {
     "name": "stdout",
     "output_type": "stream",
     "text": [
      "32768\n"
     ]
    }
   ],
   "source": [
    "u = 8 \n",
    "u **= 5\n",
    "print(u)"
   ]
  },
  {
   "cell_type": "code",
   "execution_count": 70,
   "id": "22f9b389",
   "metadata": {},
   "outputs": [
    {
     "name": "stdout",
     "output_type": "stream",
     "text": [
      "4\n"
     ]
    }
   ],
   "source": [
    "v = 12 \n",
    "v //= 3\n",
    "print(v)"
   ]
  },
  {
   "cell_type": "markdown",
   "id": "ded228b7",
   "metadata": {},
   "source": [
    "#### ESCAPE CHARACTERS\n",
    "\n",
    "An escape character allows you to include special characters in a string that would otherwise return an error. To use escape characters, add a backslash (\\) before the character you want to escape:\n",
    "\n",
    "    \" \\ \" use a single backslash to add apostrophe's in strings \n",
    "    \" \\n \" use to insert new lines in your strings\n",
    "    \" \\t \" use to insert tab spaces into your strings\n",
    "    \n",
    "Fix the code below to insert the correct escape character into the string. "
   ]
  },
  {
   "cell_type": "code",
   "execution_count": 90,
   "id": "f32087c4",
   "metadata": {},
   "outputs": [
    {
     "name": "stdout",
     "output_type": "stream",
     "text": [
      "Hello,\"\" what's up?\n"
     ]
    }
   ],
   "source": [
    "print(\"\"\"Hello,\"\\\" what's up?\"\"\")"
   ]
  },
  {
   "cell_type": "code",
   "execution_count": 85,
   "id": "f95259b6",
   "metadata": {},
   "outputs": [
    {
     "name": "stdout",
     "output_type": "stream",
     "text": [
      "Hello,\n",
      " I wish the first hello was on its own line!\n"
     ]
    }
   ],
   "source": [
    "print(\"Hello,\\n I wish the first hello was on its own line!\")"
   ]
  },
  {
   "cell_type": "code",
   "execution_count": 93,
   "id": "4f91339d",
   "metadata": {},
   "outputs": [
    {
     "name": "stdout",
     "output_type": "stream",
     "text": [
      "Hello \t\t\t I wish there was a long space after the first Hello.\n"
     ]
    }
   ],
   "source": [
    "print(\"Hello \\t\\t\\t I wish there was a long space after the first Hello.\")"
   ]
  },
  {
   "cell_type": "markdown",
   "id": "26b9ffa2",
   "metadata": {},
   "source": [
    "#### FORMATTED STRINGS PT 1\n",
    "\n",
    "Formatted strings allow you to return strings with specific formatting. A formatted string uses the following code to product output that looks a certain way:\n",
    "\n",
    "    {}  : a place holder\n",
    "\n",
    "The placeholder is used to insert the value of a specific variable into the string. All you need to do is insert the name of the variable and whatever value is assigned to that variable will show up when you print the statement. Complete the code in the cells below to print out the proper formatted strings. "
   ]
  },
  {
   "cell_type": "code",
   "execution_count": 99,
   "id": "5a18b3b4",
   "metadata": {},
   "outputs": [
    {
     "name": "stdout",
     "output_type": "stream",
     "text": [
      "Hi, Jasmine\n"
     ]
    }
   ],
   "source": [
    "name = \"Jasmine\"\n",
    "\n",
    "# complete the code below to print the statement \"Hello, [name]!\"\n",
    "\n",
    "print(f\"Hi, {name}\")"
   ]
  },
  {
   "cell_type": "code",
   "execution_count": 97,
   "id": "ceed705f",
   "metadata": {},
   "outputs": [
    {
     "name": "stdout",
     "output_type": "stream",
     "text": [
      "My favorite animal is a Cat\n"
     ]
    }
   ],
   "source": [
    "animal_name = \"Cat\"\n",
    "\n",
    "# complete the code below to print the statement \"My favorite animal is a Cat\"\n",
    "\n",
    "print(f\"My favorite animal is a {animal_name}\")"
   ]
  },
  {
   "cell_type": "code",
   "execution_count": 98,
   "id": "1bcc9a0d",
   "metadata": {},
   "outputs": [
    {
     "name": "stdout",
     "output_type": "stream",
     "text": [
      "My favorite actor is Tom Hank\n"
     ]
    }
   ],
   "source": [
    "actor_last_name = \"Hank\"\n",
    "\n",
    "# complete the code below to print the statement \"My favorite actor is Tom Hanks\"\n",
    "\n",
    "print(f\"My favorite actor is Tom {actor_last_name}\")"
   ]
  },
  {
   "cell_type": "code",
   "execution_count": 104,
   "id": "251f7329",
   "metadata": {},
   "outputs": [
    {
     "name": "stdout",
     "output_type": "stream",
     "text": [
      "Let's play chess, which color do you want to be? Black or White\n"
     ]
    }
   ],
   "source": [
    "color1 = \"Black\"\n",
    "color2 = \"White\"\n",
    "\n",
    "# complete the code below to print the statement \"Let's play chess, which color do you want to be? Black or White?\"\n",
    "\n",
    "print(f\"Let's play chess, which color do you want to be? {color1 } or {color2}\")"
   ]
  },
  {
   "cell_type": "code",
   "execution_count": 106,
   "id": "a90dee16",
   "metadata": {},
   "outputs": [
    {
     "name": "stdout",
     "output_type": "stream",
     "text": [
      "The three cities I visited during my vacation were Paris, Dublin and Bristol.\n"
     ]
    }
   ],
   "source": [
    "city1 = \"Paris\"\n",
    "city2 = \"Dublin\"\n",
    "city3 = \"Bristol\"\n",
    "\n",
    "# complete the code below to print the statement \"The three cities I visited during my vacation were Paris, Bristol, and Dublin.\"\n",
    "\n",
    "print(f\"The three cities I visited during my vacation were {city1}, {city2} and {city3}.\")"
   ]
  },
  {
   "cell_type": "markdown",
   "id": "c43d80dc",
   "metadata": {},
   "source": [
    "#### FORMATTED STRINGS PT 2\n",
    "\n",
    "Formatted strings allow you to return strings with specific formatting. A formatted string uses the following code to product output that looks a certain way:\n",
    "\n",
    "    ,   : shows commas in thousands place\n",
    "    .2f : shows 2 digits after the decimal point\n",
    "    .2% : shows 2 digits after the decimal point in percentage (%)\n",
    "\n",
    "The numeric formatting options allow you to return a number with a specific format. Typically, this includes adding a comma in the thousands place and truncating the amount of digits found after a decimal point. Complete the following questions in the cells below:\n",
    "\n",
    "1. Print the following number with commas and 1 number after the decimal: 49792862.39231\n",
    "2. Print the following number with commas and 3 number after the decimal: 3999876.009\n",
    "3. Print the following number as a percentage with 2 numbers after the decimal: .03974\n",
    "4. Print the following number with commas: 1000000000000000000\n",
    "5. Write the code to produce this output: 7, 890.00\n",
    "6. Write the code to product this output: 567.00045\n",
    "7. Print the following number with commas and no numbers after the decimal: 3450000"
   ]
  },
  {
   "cell_type": "code",
   "execution_count": 111,
   "id": "ec1a4d0a",
   "metadata": {
    "scrolled": true
   },
   "outputs": [
    {
     "name": "stdout",
     "output_type": "stream",
     "text": [
      "The number is 49,792,862.4\n"
     ]
    }
   ],
   "source": [
    "number1 = 49792862.39231\n",
    "\n",
    "print(f\"The number is {number1:,.1f}\")"
   ]
  },
  {
   "cell_type": "code",
   "execution_count": 114,
   "id": "0e45bfe0",
   "metadata": {},
   "outputs": [
    {
     "name": "stdout",
     "output_type": "stream",
     "text": [
      "The number is 3,999,876.009\n"
     ]
    }
   ],
   "source": [
    "number2 = 3999876.009\n",
    "\n",
    "print(f\"The number is {number2:,.3f}\")"
   ]
  },
  {
   "cell_type": "code",
   "execution_count": 116,
   "id": "98930a6b",
   "metadata": {},
   "outputs": [
    {
     "name": "stdout",
     "output_type": "stream",
     "text": [
      "The number in percentage is 3.97%\n"
     ]
    }
   ],
   "source": [
    "number3 = .03974\n",
    "\n",
    "print(f\"The number in percentage is {number3:,.2%}\")"
   ]
  },
  {
   "cell_type": "code",
   "execution_count": 121,
   "id": "238f70d8",
   "metadata": {},
   "outputs": [
    {
     "name": "stdout",
     "output_type": "stream",
     "text": [
      "The number is 1,000,000,000,000,000,000\n"
     ]
    }
   ],
   "source": [
    "number4 = 1000000000000000000\n",
    "\n",
    "print(f\"The number is {number4:,}\")"
   ]
  },
  {
   "cell_type": "code",
   "execution_count": 123,
   "id": "8bb393ac",
   "metadata": {},
   "outputs": [
    {
     "name": "stdout",
     "output_type": "stream",
     "text": [
      "The coded number is 789,000.00\n"
     ]
    }
   ],
   "source": [
    "number5 = 789000\n",
    "\n",
    "print(f\"The coded number is {number5:,.2f}\")\n"
   ]
  },
  {
   "cell_type": "code",
   "execution_count": 139,
   "id": "756208fd",
   "metadata": {},
   "outputs": [
    {
     "name": "stdout",
     "output_type": "stream",
     "text": [
      "The coded number is 567.00045\n"
     ]
    }
   ],
   "source": [
    "number6 = 567.00045\n",
    "\n",
    "print(f\"The coded number is {number6:.5f}\")"
   ]
  },
  {
   "cell_type": "markdown",
   "id": "5675f4cf",
   "metadata": {},
   "source": [
    "#### INPUT FUNCTION \n",
    "\n",
    "The input function directly asks the user (you) for information. \n",
    "\n",
    "    input(tell the user what you want them to do!)\n",
    "    \n",
    "1. Use the input() function to find a users name\n",
    "2. Use the input() function to find a users address\n",
    "3. Use the input() function to find a users phone number\n",
    "4. Use the input() function to find a users age\n",
    "5. Using a formatted string, put all this information together and print a statement using what you learned about the user. "
   ]
  },
  {
   "cell_type": "code",
   "execution_count": 154,
   "id": "a9404646",
   "metadata": {},
   "outputs": [
    {
     "name": "stdout",
     "output_type": "stream",
     "text": [
      "What is your name:\n",
      "Tinashe\n"
     ]
    }
   ],
   "source": [
    "print(\"What is your name:\") # input function asking the users name\n",
    "\n",
    "name = input()\n"
   ]
  },
  {
   "cell_type": "code",
   "execution_count": 155,
   "id": "b221fec3",
   "metadata": {},
   "outputs": [
    {
     "name": "stdout",
     "output_type": "stream",
     "text": [
      "What is your address:\n",
      "19513 Gunners Branch Road\n"
     ]
    }
   ],
   "source": [
    "print(\"What is your address:\") # input function asking the users address\n",
    "\n",
    "address = input()\n"
   ]
  },
  {
   "cell_type": "code",
   "execution_count": 158,
   "id": "93517775",
   "metadata": {},
   "outputs": [
    {
     "name": "stdout",
     "output_type": "stream",
     "text": [
      "What is your phone number:\n",
      "202-376-7898\n"
     ]
    }
   ],
   "source": [
    "print(\"What is your phone number:\") # input function asking the users phone number\n",
    "\n",
    "phone_number = input()\n"
   ]
  },
  {
   "cell_type": "code",
   "execution_count": 159,
   "id": "8254ba11",
   "metadata": {},
   "outputs": [
    {
     "name": "stdout",
     "output_type": "stream",
     "text": [
      "What is your age:\n",
      "26\n"
     ]
    }
   ],
   "source": [
    "print(\"What is your age:\") # input function asking the users age\n",
    "\n",
    "age= input()\n"
   ]
  },
  {
   "cell_type": "code",
   "execution_count": 170,
   "id": "096f4878",
   "metadata": {},
   "outputs": [
    {
     "name": "stdout",
     "output_type": "stream",
     "text": [
      "Name:\t\tTinashe\n",
      "Address:\t19513 Gunners Branch Road\n",
      "Phone number:\t202-376-7898\n",
      "Age:\t\t26\n"
     ]
    }
   ],
   "source": [
    "print(f\"Name:\\t\\t\" +name ) # printing users name\n",
    "print(f\"Address:\\t\" +address ) # printing users address\n",
    "print(f\"Phone number:\\t\" +phone_number ) # printing users phone\n",
    "print(f\"Age:\\t\\t\" +age ) # print users age\n",
    "\n",
    "\n"
   ]
  },
  {
   "cell_type": "markdown",
   "id": "3439a3eb",
   "metadata": {},
   "source": [
    "#### DATA TYPE CONVERSION FUNCTIONS\n",
    "\n",
    "You can convert data to various types using three built-in functions. \n",
    "* the int() function turns a value into an integer\n",
    "* the float() function turns a value into a float\n",
    "* the str() function turns a value into a string\n",
    "\n",
    "Complete the code below to make the necessary changes. "
   ]
  },
  {
   "cell_type": "code",
   "execution_count": 173,
   "id": "ac1ddb88",
   "metadata": {},
   "outputs": [
    {
     "name": "stdout",
     "output_type": "stream",
     "text": [
      "187.0\n"
     ]
    }
   ],
   "source": [
    "x = \"187\"\n",
    "\n",
    "x = float(x) # convert x into a float value\n",
    "\n",
    "print(x)"
   ]
  },
  {
   "cell_type": "code",
   "execution_count": 216,
   "id": "0167e572",
   "metadata": {},
   "outputs": [
    {
     "data": {
      "text/plain": [
       "'123.56'"
      ]
     },
     "execution_count": 216,
     "metadata": {},
     "output_type": "execute_result"
    }
   ],
   "source": [
    "y = 123.56 # convert y into a string value\n",
    "\n",
    "str(y)\n",
    "\n"
   ]
  },
  {
   "cell_type": "code",
   "execution_count": 184,
   "id": "1190bded",
   "metadata": {},
   "outputs": [
    {
     "name": "stdout",
     "output_type": "stream",
     "text": [
      "99.0\n"
     ]
    }
   ],
   "source": [
    "z = 99 \n",
    "\n",
    "z = float(z) # convert z into a float value \n",
    "\n",
    "print(z)\n",
    "\n",
    "\n"
   ]
  },
  {
   "cell_type": "markdown",
   "id": "8d175867",
   "metadata": {},
   "source": [
    "# { Module 1 Quiz }"
   ]
  },
  {
   "cell_type": "markdown",
   "id": "87bbeab8",
   "metadata": {},
   "source": [
    "1. Print out your favorite snack and write a comment about what you are doing in the code. \n",
    "2. Print the sum of the following values: 3, 56, 21, 11, 7, 0, 5\n",
    "3. Print the remainder of the values 435 and 6\n",
    "4. Create a variable called 'eye color' and store your eye color to the variable. Print a sentence describing your eye color and using the variable in the sentence. \n",
    "5. Write a code to get two integers from a user. Print out their sum."
   ]
  },
  {
   "cell_type": "code",
   "execution_count": 194,
   "id": "9dda6e42",
   "metadata": {},
   "outputs": [
    {
     "name": "stdout",
     "output_type": "stream",
     "text": [
      "What is your favorite snack:\n",
      "Peanuts\n",
      "My favorite snack:\tPeanuts\n"
     ]
    }
   ],
   "source": [
    "print(\"What is your favorite snack:\") # asking a user's favorite snack\n",
    "\n",
    "snack = input() # having the user input their favorite snack\n",
    "\n",
    "print(\"My favorite snack:\\t\" + snack) # printing the whole statement after the users has inputted their favorite snack\n",
    "\n",
    "      "
   ]
  },
  {
   "cell_type": "code",
   "execution_count": 195,
   "id": "fcc209d6",
   "metadata": {},
   "outputs": [
    {
     "name": "stdout",
     "output_type": "stream",
     "text": [
      "103\n"
     ]
    }
   ],
   "source": [
    "print(3 + 56 + 21 + 11 + 7 + 0 + 5)"
   ]
  },
  {
   "cell_type": "code",
   "execution_count": 198,
   "id": "4474228d",
   "metadata": {},
   "outputs": [
    {
     "data": {
      "text/plain": [
       "3"
      ]
     },
     "execution_count": 198,
     "metadata": {},
     "output_type": "execute_result"
    }
   ],
   "source": [
    "435%6"
   ]
  },
  {
   "cell_type": "code",
   "execution_count": 207,
   "id": "67d80096",
   "metadata": {},
   "outputs": [],
   "source": [
    "eye_color = \"blue\" # assigning the color of my eyes\n"
   ]
  },
  {
   "cell_type": "code",
   "execution_count": 211,
   "id": "c92e4cd2",
   "metadata": {},
   "outputs": [
    {
     "name": "stdout",
     "output_type": "stream",
     "text": [
      "The color of my eyes is: blue\n"
     ]
    }
   ],
   "source": [
    "print(f\"The color of my eyes is: {eye_color}\") # print the color of my eyes"
   ]
  },
  {
   "cell_type": "code",
   "execution_count": 221,
   "id": "59787d91",
   "metadata": {},
   "outputs": [
    {
     "name": "stdout",
     "output_type": "stream",
     "text": [
      "Enter the first integer: 10\n",
      "Enter second integer:\t 10\n",
      "20\n"
     ]
    }
   ],
   "source": [
    "num1 = int(input(\"Enter the first integer: \"))\n",
    "num2 = int(input(\"Enter second integer:\\t \"))\n",
    "\n",
    "print(num1 + num2)"
   ]
  },
  {
   "cell_type": "markdown",
   "id": "c75fba17",
   "metadata": {},
   "source": [
    "## Module 2 Review"
   ]
  },
  {
   "cell_type": "markdown",
   "id": "87b6cfcd",
   "metadata": {},
   "source": [
    "#### IMPORTING LIBRARIES\n",
    "\n",
    "A library is a specific collection of python functions. You can use these functions by first importing the library into your notebook. Once you import your library, you can give it a nickname. The nickname is optional, but it makes it easier to use (or reference) the library throughout your code. \n",
    "\n",
    "    import [ library name ]\n",
    "    \n",
    "Importing a library and assigning a nickname:\n",
    "\n",
    "    import [ library name ] as [ nickname ]\n",
    "    \n",
    "Import the library \"random\" and nickname it \"rd\". "
   ]
  },
  {
   "cell_type": "code",
   "execution_count": 222,
   "id": "3538e862",
   "metadata": {},
   "outputs": [],
   "source": [
    "import random"
   ]
  },
  {
   "cell_type": "code",
   "execution_count": 223,
   "id": "9fcf2d97",
   "metadata": {},
   "outputs": [],
   "source": [
    "import random as rand"
   ]
  },
  {
   "cell_type": "markdown",
   "id": "c6ddeed7",
   "metadata": {},
   "source": [
    "#### RANDOM NUMBER GENERATOR\n",
    "\n",
    "The random library contains a function that allows you to generate a random number. This library has two functions that are useful:\n",
    "\n",
    "    .random() : this will generate a random number \n",
    "    .randint() : this will generate a random integer within a specific range\n",
    "    \n",
    "When you want to use the function, you first have to reference the name of your library (or it's nickname) and then attach the function to the end of the library name. For example:\n",
    "\n",
    "    rd.random()\n",
    "    rd.randint() \n",
    "    rd.randint(0, 10) >>> this code will generate a random number between 0 and 10 \n",
    "\n",
    "1. Generate a random number\n",
    "2. Generate a random integer\n",
    "3. Generate a random integer between 1 and 100\n",
    "4. Generate a random integer between -10 and 10"
   ]
  },
  {
   "cell_type": "code",
   "execution_count": 224,
   "id": "e4ae5bb8",
   "metadata": {},
   "outputs": [
    {
     "data": {
      "text/plain": [
       "0.9179342382334752"
      ]
     },
     "execution_count": 224,
     "metadata": {},
     "output_type": "execute_result"
    }
   ],
   "source": [
    "rand.random()"
   ]
  },
  {
   "cell_type": "code",
   "execution_count": 229,
   "id": "e64d59e8",
   "metadata": {},
   "outputs": [
    {
     "data": {
      "text/plain": [
       "67"
      ]
     },
     "execution_count": 229,
     "metadata": {},
     "output_type": "execute_result"
    }
   ],
   "source": [
    "rand.randint(1, 100)"
   ]
  },
  {
   "cell_type": "code",
   "execution_count": 230,
   "id": "558738eb",
   "metadata": {},
   "outputs": [
    {
     "data": {
      "text/plain": [
       "-5"
      ]
     },
     "execution_count": 230,
     "metadata": {},
     "output_type": "execute_result"
    }
   ],
   "source": [
    "rand.randint(-10, 10)"
   ]
  },
  {
   "cell_type": "markdown",
   "id": "5e925c51",
   "metadata": {},
   "source": [
    "#### LEN FUNCTION\n",
    "\n",
    "The len() function returns the length of a given value. This includes the length of a string, the amount of characters is a sentence (which also counts white spaces), the number of items in a list, etc. Complete the code below to determine the length of the following items. Before you run the code, try to guess what the length value is going to be. "
   ]
  },
  {
   "cell_type": "code",
   "execution_count": 1,
   "id": "694d46db",
   "metadata": {},
   "outputs": [
    {
     "data": {
      "text/plain": [
       "5"
      ]
     },
     "execution_count": 1,
     "metadata": {},
     "output_type": "execute_result"
    }
   ],
   "source": [
    "# what is the length of the following string:\n",
    "\n",
    "len(\"Hello\")"
   ]
  },
  {
   "cell_type": "code",
   "execution_count": 2,
   "id": "990c5881",
   "metadata": {},
   "outputs": [
    {
     "data": {
      "text/plain": [
       "6"
      ]
     },
     "execution_count": 2,
     "metadata": {},
     "output_type": "execute_result"
    }
   ],
   "source": [
    "# what is the length of the following string:\n",
    "\n",
    "len(\"123ABC\")"
   ]
  },
  {
   "cell_type": "code",
   "execution_count": 3,
   "id": "0d2e17d9",
   "metadata": {},
   "outputs": [
    {
     "data": {
      "text/plain": [
       "31"
      ]
     },
     "execution_count": 3,
     "metadata": {},
     "output_type": "execute_result"
    }
   ],
   "source": [
    "# what is the length of the following string:\n",
    "\n",
    "len(\"Hello, how are you doing today?\")"
   ]
  },
  {
   "cell_type": "code",
   "execution_count": 4,
   "id": "ef2c9c60",
   "metadata": {},
   "outputs": [
    {
     "data": {
      "text/plain": [
       "56"
      ]
     },
     "execution_count": 4,
     "metadata": {},
     "output_type": "execute_result"
    }
   ],
   "source": [
    "# what is the length of the following string:\n",
    "\n",
    "len(\"Hello, it's really nice to meet you! I hope you're well!\")"
   ]
  },
  {
   "cell_type": "code",
   "execution_count": 5,
   "id": "e5415e13",
   "metadata": {},
   "outputs": [
    {
     "data": {
      "text/plain": [
       "1"
      ]
     },
     "execution_count": 5,
     "metadata": {},
     "output_type": "execute_result"
    }
   ],
   "source": [
    "# what is the length of the following string:\n",
    "\n",
    "len(\" \")"
   ]
  },
  {
   "cell_type": "markdown",
   "id": "0d32284b",
   "metadata": {},
   "source": [
    "#### STRING METHODS\n",
    "\n",
    "There are several functions that are used specifically with strings. The most important functions to remember are:\n",
    "    \n",
    "<b> Change the Case </b>\n",
    "    \n",
    "    .title() >> change a string to title case\n",
    "    .upper() >> change a string to upper case\n",
    "    .lower() >> change a string to lower case\n",
    "    \n",
    "<b> Remove White Spaces from a String </b>\n",
    "\n",
    "    .strip() >> strip white spaces from both ends of a string\n",
    "    .rstrip() >> remove white spaces from the right-side of a string\n",
    "    .lstrip() >> remove white spaces from the left-side of a string\n",
    "    \n",
    "<b> Replace a value in a String with another value</b>\n",
    "\n",
    "    .replace() >> replace a specific character with another character\n",
    "    .replace([what you want to replace], [what to replace it with])\n",
    "    \n",
    "Complete the code below to practice the above string methods. "
   ]
  },
  {
   "cell_type": "code",
   "execution_count": 10,
   "id": "d1ecde8e",
   "metadata": {},
   "outputs": [],
   "source": [
    "name = \"gEOrGe washINGtoN\"\n",
    "\n",
    "# change the above string to title case"
   ]
  },
  {
   "cell_type": "code",
   "execution_count": 11,
   "id": "301ae326",
   "metadata": {},
   "outputs": [
    {
     "data": {
      "text/plain": [
       "'George Washington'"
      ]
     },
     "execution_count": 11,
     "metadata": {},
     "output_type": "execute_result"
    }
   ],
   "source": [
    "name.title()"
   ]
  },
  {
   "cell_type": "code",
   "execution_count": 12,
   "id": "a342aa44",
   "metadata": {},
   "outputs": [],
   "source": [
    "yelling = \"HELLO WHAT ARE YOU DOING!\"\n",
    "\n",
    "# change the above string to lowercase"
   ]
  },
  {
   "cell_type": "code",
   "execution_count": 13,
   "id": "7af10710",
   "metadata": {},
   "outputs": [
    {
     "data": {
      "text/plain": [
       "'hello what are you doing!'"
      ]
     },
     "execution_count": 13,
     "metadata": {},
     "output_type": "execute_result"
    }
   ],
   "source": [
    "yelling.lower()"
   ]
  },
  {
   "cell_type": "code",
   "execution_count": 14,
   "id": "f950dbc2",
   "metadata": {},
   "outputs": [],
   "source": [
    "book = \"the great gatsby\"\n",
    "\n",
    "# change the above string to title case"
   ]
  },
  {
   "cell_type": "code",
   "execution_count": 15,
   "id": "97480d6a",
   "metadata": {},
   "outputs": [
    {
     "data": {
      "text/plain": [
       "'The Great Gatsby'"
      ]
     },
     "execution_count": 15,
     "metadata": {},
     "output_type": "execute_result"
    }
   ],
   "source": [
    "book.title()"
   ]
  },
  {
   "cell_type": "code",
   "execution_count": 16,
   "id": "d94057a7",
   "metadata": {},
   "outputs": [],
   "source": [
    "city = \"nEW york\"\n",
    "\n",
    "# change the above string to uppercase"
   ]
  },
  {
   "cell_type": "code",
   "execution_count": 17,
   "id": "0b3b03eb",
   "metadata": {},
   "outputs": [
    {
     "data": {
      "text/plain": [
       "'NEW YORK'"
      ]
     },
     "execution_count": 17,
     "metadata": {},
     "output_type": "execute_result"
    }
   ],
   "source": [
    "city.upper()"
   ]
  },
  {
   "cell_type": "code",
   "execution_count": 18,
   "id": "4da01258",
   "metadata": {},
   "outputs": [],
   "source": [
    "quote = \"        Not all those who wander are lost.         \"\n",
    "\n",
    "# strip the above string of white space on each side "
   ]
  },
  {
   "cell_type": "code",
   "execution_count": 19,
   "id": "f51e9ec9",
   "metadata": {},
   "outputs": [
    {
     "data": {
      "text/plain": [
       "'Not all those who wander are lost.'"
      ]
     },
     "execution_count": 19,
     "metadata": {},
     "output_type": "execute_result"
    }
   ],
   "source": [
    "quote.strip()"
   ]
  },
  {
   "cell_type": "code",
   "execution_count": 21,
   "id": "9f8e9d33",
   "metadata": {},
   "outputs": [],
   "source": [
    "quote = \"        Not all those who wander are lost.         \"\n",
    "\n",
    "# strip the above string of white spaces on the left side"
   ]
  },
  {
   "cell_type": "code",
   "execution_count": 22,
   "id": "c9d7b77e",
   "metadata": {},
   "outputs": [
    {
     "data": {
      "text/plain": [
       "'Not all those who wander are lost.         '"
      ]
     },
     "execution_count": 22,
     "metadata": {},
     "output_type": "execute_result"
    }
   ],
   "source": [
    "quote.lstrip()"
   ]
  },
  {
   "cell_type": "code",
   "execution_count": 23,
   "id": "3867989e",
   "metadata": {},
   "outputs": [],
   "source": [
    "quote = \"        Not all those who wander are lost.         \"\n",
    "\n",
    "# strip the above string of white spaces on the right side"
   ]
  },
  {
   "cell_type": "code",
   "execution_count": 24,
   "id": "2bf33138",
   "metadata": {},
   "outputs": [
    {
     "data": {
      "text/plain": [
       "'        Not all those who wander are lost.'"
      ]
     },
     "execution_count": 24,
     "metadata": {},
     "output_type": "execute_result"
    }
   ],
   "source": [
    "quote.rstrip()"
   ]
  },
  {
   "cell_type": "code",
   "execution_count": 25,
   "id": "e983c072",
   "metadata": {},
   "outputs": [],
   "source": [
    "speech = \"4 score and seven years ago...\"\n",
    "\n",
    "# in the above string, replace the value of \"4\" with the word \"four\""
   ]
  },
  {
   "cell_type": "code",
   "execution_count": 26,
   "id": "392a891d",
   "metadata": {},
   "outputs": [
    {
     "data": {
      "text/plain": [
       "'four score and seven years ago...'"
      ]
     },
     "execution_count": 26,
     "metadata": {},
     "output_type": "execute_result"
    }
   ],
   "source": [
    "speech.replace(\"4\", \"four\")"
   ]
  },
  {
   "cell_type": "code",
   "execution_count": 27,
   "id": "3f2d8aff",
   "metadata": {},
   "outputs": [],
   "source": [
    "speech = \"Four score and seven years ago...\"\n",
    "\n",
    "# in the above string, replace the word of \"seven\" with the value \"7\""
   ]
  },
  {
   "cell_type": "code",
   "execution_count": 28,
   "id": "d8c7c038",
   "metadata": {},
   "outputs": [
    {
     "data": {
      "text/plain": [
       "'Four score and 7 years ago...'"
      ]
     },
     "execution_count": 28,
     "metadata": {},
     "output_type": "execute_result"
    }
   ],
   "source": [
    "speech.replace(\"seven\", \"7\")"
   ]
  },
  {
   "cell_type": "code",
   "execution_count": 29,
   "id": "eb0a2616",
   "metadata": {},
   "outputs": [],
   "source": [
    "speech = \"Four score and seven years ago...\"\n",
    "\n",
    "# in the above string, replace the \"...\" with a single period"
   ]
  },
  {
   "cell_type": "code",
   "execution_count": 30,
   "id": "9433c964",
   "metadata": {},
   "outputs": [
    {
     "data": {
      "text/plain": [
       "'Four score and seven years ago.'"
      ]
     },
     "execution_count": 30,
     "metadata": {},
     "output_type": "execute_result"
    }
   ],
   "source": [
    "speech.replace(\"...\", \".\")"
   ]
  },
  {
   "cell_type": "markdown",
   "id": "0f0bcd3a",
   "metadata": {},
   "source": [
    "#### INDEXING A STRING\n",
    "\n",
    "Strings are ordered sequences of characters and each character has a number associated with it. \n",
    "\n",
    "Indexing allows you to access individual characters in a string (or other ordered data types like a list) directly by using a numeric value, that numeric value is associated with a character/position in the string. \n",
    "\n",
    "In python, indexing is zero-based, meaning, the first character in the string has an index of 0, followed by 1, then 2, etc. See below for an example of how index values are associated with a string:\n",
    "\n",
    "    H[0]e[1]l[2]l[3]o[4]![5]\n",
    "    \n",
    "index value of 0 returns the character \"H\"\n",
    "index value of 1 returns the character \"e\"\n",
    "index value of 2 returns the character \"l\"\n",
    "index value of 3 returns the character \"l\"\n",
    "index value of 4 returns the character \"o\"\n",
    "index value of 5 returns the character \"!\"\n",
    "\n",
    "Complete the code below to practice indexing a specific string. "
   ]
  },
  {
   "cell_type": "code",
   "execution_count": 32,
   "id": "c8e51598",
   "metadata": {},
   "outputs": [
    {
     "name": "stdout",
     "output_type": "stream",
     "text": [
      "44\n"
     ]
    }
   ],
   "source": [
    "# run this cell to define the variable 'words'\n",
    "# determine the length (how many characters) of the passage \n",
    "\n",
    "words = \"To be, or not to be, that is the question...\"\n",
    "\n",
    "print(len(words))"
   ]
  },
  {
   "cell_type": "code",
   "execution_count": 33,
   "id": "c2c102f4",
   "metadata": {},
   "outputs": [
    {
     "data": {
      "text/plain": [
       "'T'"
      ]
     },
     "execution_count": 33,
     "metadata": {},
     "output_type": "execute_result"
    }
   ],
   "source": [
    "# index the variable 'words'\n",
    "# what character is in position 0?\n",
    "\n",
    "words[0]"
   ]
  },
  {
   "cell_type": "code",
   "execution_count": 34,
   "id": "b19dc375",
   "metadata": {},
   "outputs": [
    {
     "data": {
      "text/plain": [
       "'o'"
      ]
     },
     "execution_count": 34,
     "metadata": {},
     "output_type": "execute_result"
    }
   ],
   "source": [
    "# index the variable 'words'\n",
    "# what character is in position 15?\n",
    "\n",
    "words[15]"
   ]
  },
  {
   "cell_type": "code",
   "execution_count": 35,
   "id": "3f34ee5e",
   "metadata": {},
   "outputs": [
    {
     "data": {
      "text/plain": [
       "' '"
      ]
     },
     "execution_count": 35,
     "metadata": {},
     "output_type": "execute_result"
    }
   ],
   "source": [
    "# index the variable 'words'\n",
    "# what character is in position 9?\n",
    "\n",
    "words[9]"
   ]
  },
  {
   "cell_type": "code",
   "execution_count": 37,
   "id": "81c90dbb",
   "metadata": {},
   "outputs": [
    {
     "name": "stdout",
     "output_type": "stream",
     "text": [
      "o\n"
     ]
    }
   ],
   "source": [
    "# index the variable 'words'\n",
    "# what character is in position 39?\n",
    "\n",
    "print(words[39])\n"
   ]
  },
  {
   "cell_type": "markdown",
   "id": "aab4ba3d",
   "metadata": {},
   "source": [
    "#### CUSTOMIZED FUNCTIONS \n",
    "\n",
    "Python allows you to create your own unique functions. This gives you a lot of flexibility on the tasks you can automate within your code. You can create a function to do practically anything -- print a single value, add two numbers together, remove white spaces from a string, etc. \n",
    "\n",
    "* A custom function begins with the keyword <b>def</b> and followed by a function name (of your choice). \n",
    "* The function may take argument(s) as input within the opening and closing parentheses, just after the function name and following by a colon. \n",
    "* After defining the function name and argument(s) a block of program statement(s) start on the next line and these statement(s) must be indented. Please note, adding arguments within the parentheses is optional!\n",
    "\n",
    "When you are defining a function, follow these steps:\n",
    "\n",
    "     def function_name(argument1, argument2, ...) :\n",
    "          statement_1\n",
    "          statement_2\n",
    "\n",
    "Complete the code below to define a series of functions. "
   ]
  },
  {
   "cell_type": "code",
   "execution_count": 38,
   "id": "796baaa1",
   "metadata": {},
   "outputs": [
    {
     "name": "stdout",
     "output_type": "stream",
     "text": [
      "10\n"
     ]
    }
   ],
   "source": [
    "# EXAMPLE\n",
    "# define a function that takes one number and prints the number\n",
    "\n",
    "def print_num(num):\n",
    "    print(num)\n",
    "\n",
    "# call the function\n",
    "# this function takes one argument, so you have to give the function info\n",
    "\n",
    "print_num(10)"
   ]
  },
  {
   "cell_type": "code",
   "execution_count": 40,
   "id": "539cd9e3",
   "metadata": {},
   "outputs": [
    {
     "name": "stdout",
     "output_type": "stream",
     "text": [
      "Enter a number: 10\n",
      "10\n"
     ]
    }
   ],
   "source": [
    "# EXAMPLE #\n",
    "# define a function that generates one number and prints the number\n",
    "\n",
    "def print_num_b():\n",
    "    num = int(input(\"Enter a number: \"))\n",
    "    print(num)\n",
    "\n",
    "# call the function\n",
    "# this function takes no arguments, therefore, we can call the function without giving information first\n",
    "\n",
    "print_num_b()"
   ]
  },
  {
   "cell_type": "code",
   "execution_count": 44,
   "id": "b7303870",
   "metadata": {},
   "outputs": [
    {
     "name": "stdout",
     "output_type": "stream",
     "text": [
      "20\n"
     ]
    }
   ],
   "source": [
    "# define a function that takes two numbers and adds them together\n",
    "\n",
    "def print_nums(num1, num2):\n",
    "    print(num1 + num2)\n",
    "\n",
    "# call the function below\n",
    "# this function takes two arguments, so you have to give the function info\n",
    "\n",
    "print_nums(15, 5)"
   ]
  },
  {
   "cell_type": "code",
   "execution_count": 45,
   "id": "9d30be02",
   "metadata": {},
   "outputs": [],
   "source": [
    "# define a function that generates two numbers and adds them together\n",
    "\n",
    "def print_nums_b():\n",
    "    num1 = int(input(\"Enter a number: \"))\n",
    "    num2 = int(input(\"Enter another number: \"))\n",
    "    print(num1 + num2)\n",
    "\n",
    "# call the function below\n",
    "# this function takes no arguments, therefore, we can call the function without giving information first\n",
    "\n"
   ]
  },
  {
   "cell_type": "code",
   "execution_count": 46,
   "id": "ad99120a",
   "metadata": {},
   "outputs": [
    {
     "name": "stdout",
     "output_type": "stream",
     "text": [
      "MY YOU PLEASE OFFER ME A JOB\n"
     ]
    }
   ],
   "source": [
    "# define a function that takes a string and changes the case to uppercase\n",
    "\n",
    "def uppercased(string):\n",
    "    string = string.upper()\n",
    "    print(string)\n",
    "    \n",
    "# call the function below\n",
    "# this function takes one argument, so you have to give the function info\n",
    "\n",
    "uppercased(\"my you please offer me a job\")\n"
   ]
  },
  {
   "cell_type": "code",
   "execution_count": 47,
   "id": "7e297a09",
   "metadata": {},
   "outputs": [
    {
     "name": "stdout",
     "output_type": "stream",
     "text": [
      "20\n"
     ]
    }
   ],
   "source": [
    "# define a function that asks a user for two numbers then multiplies those numbers together\n",
    "\n",
    "def multi(x, y):\n",
    "    print(x * y)\n",
    "    \n",
    "# call the function below\n",
    "# this function takes two arguments, so you have to give the function info\n",
    "\n",
    "multi(2, 10)"
   ]
  },
  {
   "cell_type": "code",
   "execution_count": 49,
   "id": "a1d3e647",
   "metadata": {},
   "outputs": [
    {
     "name": "stdout",
     "output_type": "stream",
     "text": [
      "Enter a number: 10\n",
      "Enter another number: 5\n",
      "50\n"
     ]
    }
   ],
   "source": [
    "# define a function that asks a user for two numbers then multiplies those numbers together\n",
    "\n",
    "def multi_b():\n",
    "    x = int(input(\"Enter a number: \")) \n",
    "    y = int(input(\"Enter another number: \"))\n",
    "    print(x * y)\n",
    "\n",
    "# call the function below\n",
    "# this function takes no arguments, therefore, we can call the function without giving information first\n",
    "\n",
    "multi_b()"
   ]
  },
  {
   "cell_type": "markdown",
   "id": "b7f66b5e",
   "metadata": {},
   "source": [
    "# { Module 2 Quiz }\n",
    "\n",
    "1. Convert \"890\" to an integer data type\n",
    "2. Get two numbers from a user. Use these two numbers as the starting and ending number when generating a random integer. Run the code to produce a random integer within this range.\n",
    "3. Remove the whitespaces from the ends of the following string: \"   What is your name   ?\"\n",
    "4. After you remove the whitespaces from the above string, index the string to find the character in position 3.\n",
    "5. Define a function that asks a user for three numbers. Add the first two numbers together. Then, multiply the sum of the first two numbers with the third number. After you define the function, use it!"
   ]
  },
  {
   "cell_type": "code",
   "execution_count": 50,
   "id": "0a78e3fc",
   "metadata": {},
   "outputs": [
    {
     "data": {
      "text/plain": [
       "890"
      ]
     },
     "execution_count": 50,
     "metadata": {},
     "output_type": "execute_result"
    }
   ],
   "source": [
    "int(\"890\")"
   ]
  },
  {
   "cell_type": "code",
   "execution_count": 53,
   "id": "1a0ac364",
   "metadata": {},
   "outputs": [
    {
     "name": "stdout",
     "output_type": "stream",
     "text": [
      "Enter a number: 10\n",
      "Enter a number: 50\n"
     ]
    },
    {
     "data": {
      "text/plain": [
       "39"
      ]
     },
     "execution_count": 53,
     "metadata": {},
     "output_type": "execute_result"
    }
   ],
   "source": [
    "import random as ran\n",
    "\n",
    "x = int(input(\"Enter a number: \")) \n",
    "y = int(input(\"Enter a number: \")) \n",
    "\n",
    "ran.randint(x, y)"
   ]
  },
  {
   "cell_type": "code",
   "execution_count": 56,
   "id": "6697708b",
   "metadata": {},
   "outputs": [
    {
     "name": "stdout",
     "output_type": "stream",
     "text": [
      " WhAt is your name?  \n"
     ]
    }
   ],
   "source": [
    "name = \" WhAt is your name?  \"\n",
    "\n",
    "name.strip()\n",
    "\n",
    "print(name)"
   ]
  },
  {
   "cell_type": "code",
   "execution_count": 57,
   "id": "0767518d",
   "metadata": {},
   "outputs": [
    {
     "data": {
      "text/plain": [
       "'A'"
      ]
     },
     "execution_count": 57,
     "metadata": {},
     "output_type": "execute_result"
    }
   ],
   "source": [
    "name[3]"
   ]
  },
  {
   "cell_type": "code",
   "execution_count": 59,
   "id": "f4775473",
   "metadata": {},
   "outputs": [
    {
     "name": "stdout",
     "output_type": "stream",
     "text": [
      "45\n"
     ]
    }
   ],
   "source": [
    "def numbers(a, b, c):\n",
    "    sum = a + b\n",
    "    total = sum * c\n",
    "    print(total)\n",
    "\n",
    "numbers(5, 10, 3)"
   ]
  },
  {
   "cell_type": "markdown",
   "id": "000f4b45",
   "metadata": {},
   "source": [
    "## Module 3 Review"
   ]
  },
  {
   "cell_type": "markdown",
   "id": "f414038b",
   "metadata": {},
   "source": [
    "#### COMPARISON AND BOOLEAN OPERATORS\n",
    "\n",
    "Comparison operators compare two values to each other and return a result based on that comparison (either true or false). The comparison operators you have available are as follows:\n",
    "\n",
    "    == : equal to\n",
    "    != : not equal to\n",
    "    >  : greater than\n",
    "    <  : less than\n",
    "    >= : greater than or equal to\n",
    "    <= : less than or equal to\n",
    "    \n",
    "For example, x = 10 and y = 14, see below for the following comparison results:\n",
    "\n",
    "       x == y >> FALSE\n",
    "       x != y >> TRUE\n",
    "       x > y >> FALSE\n",
    "       x < y >> TRUE\n",
    "       x >= y >> FALSE\n",
    "       x <= y >> TRUE\n",
    "    \n",
    "1. Create 5 conditions that produce a FALSE result\n",
    "2. Create 5 conditions that produce a TRUE result"
   ]
  },
  {
   "cell_type": "code",
   "execution_count": 13,
   "id": "946b26a8",
   "metadata": {},
   "outputs": [
    {
     "name": "stdout",
     "output_type": "stream",
     "text": [
      "False\n",
      "False\n",
      "False\n",
      "False\n",
      "False\n"
     ]
    }
   ],
   "source": [
    "# 5 conditions that produce false result\n",
    "print(3 == 20)\n",
    "print(\"keep\" == \"take\")\n",
    "print(87 >= 980)\n",
    "print(0 > 8)\n",
    "print(12.9 != 12.9)"
   ]
  },
  {
   "cell_type": "code",
   "execution_count": 14,
   "id": "361dbbd6",
   "metadata": {},
   "outputs": [
    {
     "name": "stdout",
     "output_type": "stream",
     "text": [
      "True\n",
      "True\n",
      "True\n",
      "True\n",
      "True\n"
     ]
    }
   ],
   "source": [
    "# 5 conditions that produce true \n",
    "\n",
    "print(10 != 80)\n",
    "print(\"tinashe\" == \"tinashe\")\n",
    "print(10 <= 100)\n",
    "print(20 == 20.0)\n",
    "print(5 < 11)"
   ]
  },
  {
   "cell_type": "markdown",
   "id": "66b6fa06",
   "metadata": {},
   "source": [
    "#### CONDITIONAL STATEMENTS\n",
    "\n",
    "Conditional statements check a statement for truth and executes a specific task depending on if the statement is true or false. Conditional statements include:\n",
    "\n",
    "    IF >> if \n",
    "    ELSE >> else\n",
    "    ELIF >> else if "
   ]
  },
  {
   "cell_type": "markdown",
   "id": "e2fd1d7e",
   "metadata": {},
   "source": [
    "#### IF STATEMENTS\n",
    "\n",
    "The IF statement checks a statement for truth, if the statement is true a specific task will be executed\n",
    "\n",
    "1. Run the code in the first example\n",
    "2. Create your own IF statement that prints a number if it is higher than 100\n",
    "3. Create an IF statement that adds 10 to a number if it is higher than 100; print the sum of the two numbers. "
   ]
  },
  {
   "cell_type": "code",
   "execution_count": 16,
   "id": "65265c00",
   "metadata": {},
   "outputs": [
    {
     "name": "stdout",
     "output_type": "stream",
     "text": [
      "You are over 18.\n"
     ]
    }
   ],
   "source": [
    "# EXAMPLE\n",
    "\n",
    "age = 28\n",
    "\n",
    "if age > 18:\n",
    "    print(\"You are over 18.\")"
   ]
  },
  {
   "cell_type": "code",
   "execution_count": 20,
   "id": "fe9d34d7",
   "metadata": {},
   "outputs": [
    {
     "name": "stdout",
     "output_type": "stream",
     "text": [
      "200\n"
     ]
    }
   ],
   "source": [
    "num = 200\n",
    "\n",
    "if num > 100:\n",
    "    \n",
    "    print(num)"
   ]
  },
  {
   "cell_type": "code",
   "execution_count": 21,
   "id": "70e1a783",
   "metadata": {},
   "outputs": [
    {
     "name": "stdout",
     "output_type": "stream",
     "text": [
      "160\n"
     ]
    }
   ],
   "source": [
    "num = 150\n",
    "\n",
    "if num > 100:\n",
    "    j = num + 10\n",
    "    print(j)"
   ]
  },
  {
   "cell_type": "markdown",
   "id": "35172b2f",
   "metadata": {},
   "source": [
    "#### IF/ELSE STATEMENTS\n",
    "\n",
    "The IF/ELSE statements (when used together), checks a statement for truth - if the statement is true, the task underneath the IF statement will execute. If the statement if false, the task underneath the ELSE statement will execute.\n",
    "\n",
    "1. Run the code in the first example\n",
    "2. Create your own IF/ELSE statement that prints a number if it is higher than 100; if it is lower than 100, print \"Low Number\". \n",
    "3. Create an IF/ELSE statement that adds 10 to a number if it is higher than 100; if it isn't higher than 100, add 100 to the number. Print the sum of the two numbers."
   ]
  },
  {
   "cell_type": "code",
   "execution_count": 22,
   "id": "dba5c370",
   "metadata": {},
   "outputs": [
    {
     "name": "stdout",
     "output_type": "stream",
     "text": [
      "You are under 18.\n"
     ]
    }
   ],
   "source": [
    "# EXAMPLE\n",
    "\n",
    "age = 8\n",
    "\n",
    "if age > 18:\n",
    "    print(\"You are over 18.\")\n",
    "else:\n",
    "    print(\"You are under 18.\")"
   ]
  },
  {
   "cell_type": "code",
   "execution_count": 24,
   "id": "15ce4d48",
   "metadata": {},
   "outputs": [
    {
     "name": "stdout",
     "output_type": "stream",
     "text": [
      "Your number is higher than 100.\n"
     ]
    }
   ],
   "source": [
    "numb = 101\n",
    "\n",
    "if numb > 100:\n",
    "    print(\"Your number is higher than 100.\")\n",
    "else:\n",
    "    print(\"Your number is lower than 100.\")"
   ]
  },
  {
   "cell_type": "code",
   "execution_count": 25,
   "id": "236f3ddb",
   "metadata": {},
   "outputs": [
    {
     "name": "stdout",
     "output_type": "stream",
     "text": [
      "Your number is lower than 100.\n"
     ]
    }
   ],
   "source": [
    "numb = 99\n",
    "\n",
    "if numb > 100:\n",
    "    print(\"Your number is higher than 100.\")\n",
    "else:\n",
    "    print(\"Your number is lower than 100.\")"
   ]
  },
  {
   "cell_type": "code",
   "execution_count": 26,
   "id": "acc1a8c4",
   "metadata": {},
   "outputs": [
    {
     "name": "stdout",
     "output_type": "stream",
     "text": [
      "Your number is higher than 100.\n"
     ]
    }
   ],
   "source": [
    "numb = 101\n",
    "\n",
    "if numb > 100:\n",
    "    print(\"Your number is higher than 100.\")\n",
    "else:\n",
    "    print(\"Your number is lower than 100.\")"
   ]
  },
  {
   "cell_type": "code",
   "execution_count": 29,
   "id": "beb77d91",
   "metadata": {},
   "outputs": [
    {
     "name": "stdout",
     "output_type": "stream",
     "text": [
      "151\n"
     ]
    }
   ],
   "source": [
    "num = 151\n",
    "\n",
    "if num > 100:\n",
    "    \n",
    "    print(num)\n",
    "else:\n",
    "    print(\"Low Number\")\n"
   ]
  },
  {
   "cell_type": "code",
   "execution_count": 30,
   "id": "e627b38a",
   "metadata": {},
   "outputs": [
    {
     "name": "stdout",
     "output_type": "stream",
     "text": [
      "161\n"
     ]
    }
   ],
   "source": [
    "num = 151\n",
    "\n",
    "if num > 100:\n",
    "    x = num + 10\n",
    "    print(x)\n",
    "else:\n",
    "    x = num + 100\n",
    "    print(x)"
   ]
  },
  {
   "cell_type": "markdown",
   "id": "8fda511e",
   "metadata": {},
   "source": [
    "#### ELIF STATEMENTS\n",
    "\n",
    "The ELIF statement is short for \"ELSE IF\" and is a combination of the above statements. ELIF checks another statement for truth (after the initial IF statement) -- if the statement if true, the tasks underneath the ELIF statement will execute. \n",
    "\n",
    "1. Run the code in the first example\n",
    "2. Create your own IF/ELIF/ELSE statement that prints a number if it is higher than 100; if the value is equal to 100 - print \"100\". If both statements are false, print \"less than 100\").\n",
    "3. Create an IF/ELIF/ELSE statement that adds 10 to a number if it is higher than 100; if the number is greater than 50 -- add 20 to the number. If none of the above are true, add 100 to the number. Print the sum of the two numbers. \n"
   ]
  },
  {
   "cell_type": "code",
   "execution_count": 31,
   "id": "274f1c76",
   "metadata": {},
   "outputs": [
    {
     "name": "stdout",
     "output_type": "stream",
     "text": [
      "You ARE currently 18!\n"
     ]
    }
   ],
   "source": [
    "# EXAMPLE\n",
    "\n",
    "age = 18\n",
    "\n",
    "if age > 18:\n",
    "    print(\"You are older than 18.\")\n",
    "elif age == 18:\n",
    "    print(\"You ARE currently 18!\")\n",
    "else:\n",
    "    print(\"You are younger than 18.\")"
   ]
  },
  {
   "cell_type": "code",
   "execution_count": 34,
   "id": "f34a0f17",
   "metadata": {},
   "outputs": [
    {
     "name": "stdout",
     "output_type": "stream",
     "text": [
      "301\n"
     ]
    }
   ],
   "source": [
    "num = 301\n",
    "\n",
    "if num > 100:\n",
    "    print(num)\n",
    "elif num == 100:\n",
    "    print(num)\n",
    "else:\n",
    "    print (\"Less than 100.\")"
   ]
  },
  {
   "cell_type": "code",
   "execution_count": 35,
   "id": "5a085b63",
   "metadata": {},
   "outputs": [
    {
     "name": "stdout",
     "output_type": "stream",
     "text": [
      "Less than 100.\n"
     ]
    }
   ],
   "source": [
    "num = 99\n",
    "\n",
    "if num > 100:\n",
    "    print(num)\n",
    "elif num == 100:\n",
    "    print(num)\n",
    "else:\n",
    "    print (\"Less than 100.\")"
   ]
  },
  {
   "cell_type": "code",
   "execution_count": 40,
   "id": "3c81f37c",
   "metadata": {},
   "outputs": [
    {
     "name": "stdout",
     "output_type": "stream",
     "text": [
      "149\n"
     ]
    }
   ],
   "source": [
    "num = 49\n",
    "\n",
    "if num > 100:\n",
    "    x = num + 10\n",
    "    print(x)\n",
    "elif num > 50:\n",
    "    x = num + 20\n",
    "    print(x)\n",
    "else:\n",
    "    x = num + 100\n",
    "    print (x)"
   ]
  },
  {
   "cell_type": "markdown",
   "id": "672c3909",
   "metadata": {},
   "source": [
    "#### LISTS\n",
    "\n",
    "Lists are a unique data type within Python. Lists are ordered and changeable -- which means you can index a list and you can add/remove values from a list. A list is a collection of values all saved together into a single variable. Lists can contain multiple data types within a single list. All values within a list are separated by a comma. Lists are defined by square brackets. \n",
    "\n",
    "    list_name = [value1, value2, value3...]\n",
    "    \n",
    "Complete the code below to define a series of lists. "
   ]
  },
  {
   "cell_type": "code",
   "execution_count": 41,
   "id": "cb76e8cb",
   "metadata": {},
   "outputs": [
    {
     "name": "stdout",
     "output_type": "stream",
     "text": [
      "['Rose', 'Lily', 'Poppy', 'Orchid', 'Daisy']\n"
     ]
    }
   ],
   "source": [
    "# add two values to the following list of flowers\n",
    "# print the list\n",
    "\n",
    "flowers = [\"Rose\", \"Lily\", \"Poppy\", \"Orchid\", \"Daisy\"]\n",
    "\n",
    "print(flowers)"
   ]
  },
  {
   "cell_type": "code",
   "execution_count": 42,
   "id": "75e5258f",
   "metadata": {},
   "outputs": [
    {
     "name": "stdout",
     "output_type": "stream",
     "text": [
      "['Jack', 'Max', 'Leo', 'Harper', 'Sam']\n"
     ]
    }
   ],
   "source": [
    "# fix the code below to define a list of names\n",
    "# print the list\n",
    "\n",
    "names = [\"Jack\", \"Max\", \"Leo\", \"Harper\", \"Sam\"]\n",
    "\n",
    "print(names)"
   ]
  },
  {
   "cell_type": "code",
   "execution_count": 43,
   "id": "4b4faa85",
   "metadata": {},
   "outputs": [],
   "source": [
    "# use the space below to create a blank list\n",
    "# print the list to make sure its blank\n",
    "\n",
    "blank_list = []"
   ]
  },
  {
   "cell_type": "markdown",
   "id": "baa974bd",
   "metadata": {},
   "source": [
    "#### LIST INDEXING AND SLICING\n",
    "\n",
    "Indexing a list works similarly to indexing a list - you are specifically asking to see the value within a specific location. A list index is still zero-based. See below for a list of colors. Next to each color is the index value.\n",
    "\n",
    "    colors = [red-0, yellow-1, blue-2]\n",
    "\n",
    "To index, you will state the name of your list and then within square brackets, specify the location you want to see. \n",
    "\n",
    "    colors[0] >> \"red-0\"\n",
    "    colors[1] >> \"yellow-1\"\n",
    "    colors[2] >> \"blue-2\"\n",
    "    \n",
    "Slicing a list returns a specific segment of the list instead of just returning a specific value in a specific index position. Slicing will return all the values of a list from a starting index location up to (<b>but not including</b>) an ending index location. Slicing uses square brackets and follows the pattern below:\n",
    "\n",
    "    list_name[starting point : ending point]\n",
    "    \n",
    "Slicing will literally give you a slice of the list. See below for an example using the colors list. \n",
    "\n",
    "    colors[0:2] >> red-0, yellow-1\n",
    "    colors[0:3] >> red-0, yellow-1, blue-2\n",
    "    \n",
    "1. Create a list of objects you find around your house. Have at least 6 values in the list. Print the list. \n",
    "2. What value is at position 4 in your list?\n",
    "3. What value is at position 0 in your list?\n",
    "4. Slice your list so you return all values except for the last two."
   ]
  },
  {
   "cell_type": "code",
   "execution_count": 44,
   "id": "f4416196",
   "metadata": {},
   "outputs": [
    {
     "name": "stdout",
     "output_type": "stream",
     "text": [
      "['tv', 'stove', 'bed', 'sofa', 'dinning table', 'computer']\n"
     ]
    }
   ],
   "source": [
    "# 1. a list of things around my house\n",
    "\n",
    "objects = [\"tv\", \"stove\", \"bed\", \"sofa\", \"dinning table\", \"computer\"]\n",
    "\n",
    "print(objects)"
   ]
  },
  {
   "cell_type": "code",
   "execution_count": 45,
   "id": "78068227",
   "metadata": {},
   "outputs": [
    {
     "data": {
      "text/plain": [
       "'dinning table'"
      ]
     },
     "execution_count": 45,
     "metadata": {},
     "output_type": "execute_result"
    }
   ],
   "source": [
    "# 2. value position 4 of my list \n",
    "\n",
    "objects[4]"
   ]
  },
  {
   "cell_type": "code",
   "execution_count": 46,
   "id": "7a8f7320",
   "metadata": {},
   "outputs": [
    {
     "data": {
      "text/plain": [
       "'tv'"
      ]
     },
     "execution_count": 46,
     "metadata": {},
     "output_type": "execute_result"
    }
   ],
   "source": [
    "# 3. value position 0\n",
    "\n",
    "objects[0]"
   ]
  },
  {
   "cell_type": "code",
   "execution_count": 49,
   "id": "1d9ba19d",
   "metadata": {},
   "outputs": [
    {
     "data": {
      "text/plain": [
       "['tv', 'stove', 'bed', 'sofa']"
      ]
     },
     "execution_count": 49,
     "metadata": {},
     "output_type": "execute_result"
    }
   ],
   "source": [
    "# 4. Slicing  my list so it can return all values except for the last two\n",
    "\n",
    "objects[0:4]"
   ]
  },
  {
   "cell_type": "markdown",
   "id": "3c69d12a",
   "metadata": {},
   "source": [
    "#### ADDING VALUES TO A LIST\n",
    "\n",
    "Lists are changeable, which means you can add values to a list after you have defined the list initially. \n",
    "\n",
    "The .append() function will add a single value to the end of your list. This function can only add one value at a time, and it will always attach to the end. To use the function, see an example below:\n",
    "\n",
    "    list_name.append( new_item_to_add )\n",
    "    \n",
    "    colors.append(\"green-3\")\n",
    "    \n",
    "The .insert() function will add a single value to a specific index-position within your list. Unlike the append function, this means the item your adding won't automatically be attached to the end. To use the function, see an example below:\n",
    "\n",
    "    list_name.insert( index-position, new_item_to_add )\n",
    "    \n",
    "    colors.insert(0, \"green-3\")\n",
    "\n",
    "The .extend() function allows you to add multiple values to a list at one time. This is the function to use if you don't want to add values one by one. To use the function, you first have to create a separate list of the values you want to add. Then, you will use the .extend() function to add all the values on the list onto the end of the existing list. See below for an example:\n",
    "\n",
    "    new_list = [\"new_value1\", \"new_value2\", \"new_value3\"...]\n",
    "    list_name.extend( new_list )\n",
    "    \n",
    "    \n",
    "    new_colors = [\"green-3\", \"purple-4\"]\n",
    "    colors.extend(new_colors)\n",
    "    \n",
    "1. Create a list of shapes below. This list should have at least 3 values. Print the list. \n",
    "2. Use the append function to add a shape to your list. Print the list.\n",
    "3. Use the insert function to add a shape to your list. This shape should be inserted in index position 2. Print the list.\n",
    "4. Use the extend function to add 3 additional shapes to your list. Print the list. "
   ]
  },
  {
   "cell_type": "code",
   "execution_count": 50,
   "id": "bdba2f86",
   "metadata": {},
   "outputs": [
    {
     "name": "stdout",
     "output_type": "stream",
     "text": [
      "['rectangle', 'hectorgon', 'triangle']\n"
     ]
    }
   ],
   "source": [
    "# 1. creating a list of shapes \n",
    "\n",
    "shapes = [\"rectangle\", \"hectorgon\", \"triangle\"]\n",
    "\n",
    "print(shapes)"
   ]
  },
  {
   "cell_type": "code",
   "execution_count": 51,
   "id": "baa7734e",
   "metadata": {},
   "outputs": [
    {
     "name": "stdout",
     "output_type": "stream",
     "text": [
      "['rectangle', 'hectorgon', 'triangle', 'circle']\n"
     ]
    }
   ],
   "source": [
    "# 2.using append function to add a shape to my list\n",
    "\n",
    "shapes.append(\"circle\")\n",
    "\n",
    "print(shapes)"
   ]
  },
  {
   "cell_type": "code",
   "execution_count": 52,
   "id": "7c4290e5",
   "metadata": {},
   "outputs": [
    {
     "name": "stdout",
     "output_type": "stream",
     "text": [
      "['rectangle', 'hectorgon', 'star', 'triangle', 'circle']\n"
     ]
    }
   ],
   "source": [
    "# 3. using insert function to add a shape to my list in index position 2\n",
    "\n",
    "shapes.insert(2, \"star\")\n",
    "\n",
    "print(shapes)"
   ]
  },
  {
   "cell_type": "code",
   "execution_count": 53,
   "id": "aee44b6a",
   "metadata": {},
   "outputs": [
    {
     "name": "stdout",
     "output_type": "stream",
     "text": [
      "['rectangle', 'hectorgon', 'star', 'triangle', 'circle', 'square', 'pentagon', 'semi-circle']\n"
     ]
    }
   ],
   "source": [
    "# 4. using extend function to extend my list\n",
    "\n",
    "new_shapes = [\"square\", \"pentagon\", \"semi-circle\"]\n",
    "\n",
    "shapes.extend(new_shapes)\n",
    "\n",
    "print(shapes)"
   ]
  },
  {
   "cell_type": "markdown",
   "id": "3a61113f",
   "metadata": {},
   "source": [
    "# { Module 3 Quiz }\n",
    "\n",
    "1. Create 3 conditions that produce a false result. Create 3 conditions that produce a true result.\n",
    "2. Ask the user for a specific color and store the value into a variable. If the color is Blue, print \"Blue is a calming color\". If the color is Red, print \"Red is a fiery color\". Otherwise, print \"All colors are beautiful\".\n",
    "3. Create a list of 5 fictional characters. Print the list. \n",
    "4. Ask the user for a specific number between 1 and 10. If the number is less than 3, print 'low value'. If the number is greater than 7, print 'high number'. Otherwise, print 'thank you'.\n",
    "5. Create a function that determines if a student passed or failed a test. Ask the user for their test score, if the value is below 70, print 'You failed'. If the value is 70 or above, print 'You passed'. If the value is above 100 or below 0, print 'Please enter a valid number'. "
   ]
  },
  {
   "cell_type": "code",
   "execution_count": 54,
   "id": "6c34d4fd",
   "metadata": {},
   "outputs": [
    {
     "name": "stdout",
     "output_type": "stream",
     "text": [
      "False\n",
      "False\n",
      "False\n",
      "True\n",
      "True\n",
      "True\n"
     ]
    }
   ],
   "source": [
    "# 1. FALSE conditions\n",
    "\n",
    "print(5 == 2)\n",
    "print(6.5 != 6.5)\n",
    "print(178 >= 9000)\n",
    "\n",
    "# TRUE conditions\n",
    "\n",
    "print(\"Hello\" == \"Hello\")\n",
    "print(67 < 190)\n",
    "print(45 != 8)"
   ]
  },
  {
   "cell_type": "code",
   "execution_count": 58,
   "id": "492535c7",
   "metadata": {},
   "outputs": [
    {
     "name": "stdout",
     "output_type": "stream",
     "text": [
      "Enter a color: blue\n",
      "Blue is a calming color!\n"
     ]
    }
   ],
   "source": [
    "# 2. asking a user to give you a color \n",
    "\n",
    "color = input(\"Enter a color: \")\n",
    "\n",
    "if color == \"Blue\" or \"blue\":\n",
    "    print(\"Blue is a calming color!\")\n",
    "elif color == \"Red\":\n",
    "    print(\"Red is a fiery color!\")\n",
    "else:\n",
    "    print(\"All colors are beautiful\")"
   ]
  },
  {
   "cell_type": "code",
   "execution_count": 1,
   "id": "8d7dda86",
   "metadata": {},
   "outputs": [
    {
     "name": "stdout",
     "output_type": "stream",
     "text": [
      "['Rozvi', 'changamire dombo', 'Chaka ', 'Zulu', 'Malema']\n"
     ]
    }
   ],
   "source": [
    "# 3. creating a list of fictional charactors \n",
    "\n",
    "fiction = [\"Rozvi\", \"changamire dombo\", \"Chaka \", \"Zulu\", \"Malema\"]\n",
    "\n",
    "print(fiction)"
   ]
  },
  {
   "cell_type": "code",
   "execution_count": 5,
   "id": "736ab376",
   "metadata": {},
   "outputs": [
    {
     "name": "stdout",
     "output_type": "stream",
     "text": [
      "Enter a number between 1 and 10: 5\n",
      "Thank you for entering a number!!!\n"
     ]
    }
   ],
   "source": [
    "# 4. asking a user to enter a number between 1 and 10\n",
    "number = int(input(\"Enter a number between 1 and 10: \"))\n",
    "\n",
    "if number > 7:\n",
    "    print(\"High Value!\")\n",
    "elif number < 3:\n",
    "    print(\"Low Value\")\n",
    "else:\n",
    "    print(\"Thank you for entering a number!!!\")"
   ]
  },
  {
   "cell_type": "code",
   "execution_count": 6,
   "id": "c6b494f3",
   "metadata": {},
   "outputs": [
    {
     "name": "stdout",
     "output_type": "stream",
     "text": [
      "Please enter your test score: 99\n",
      "You passed!\n"
     ]
    }
   ],
   "source": [
    "# Create a function that determines if a student passed or failed a test.\n",
    "\n",
    "def passed():\n",
    "    test_score = float(input(\"Please enter your test score: \"))\n",
    "    \n",
    "    if test_score > 100 or test_score < 0:\n",
    "        print(\"Please enter a valid number.\")\n",
    "    elif test_score >= 70:\n",
    "        print(\"You passed!\")\n",
    "    elif test_score < 70:\n",
    "        print(\"You failed.\")\n",
    "\n",
    "# use the function\n",
    "\n",
    "passed()"
   ]
  },
  {
   "cell_type": "markdown",
   "id": "e637bcf4",
   "metadata": {},
   "source": [
    "## Advanced Review\n",
    "\n",
    "Complete the exercises below. These exercises cover topics from all the modules covered in the class thus far, not just the items reviewed in this notebook. Each exercise should be completed in its own cell (or multiple cells). \n",
    "\n",
    "*****************************\n",
    "\n",
    "1.\tCreate a program that asks the user to enter their name and their age. Print out a message addressed to them that tells them the year that they will turn 100 years old.\n",
    "2.\tAsk the user for a number. Depending on whether the number is even or odd, print out an appropriate message to the user.\n",
    "3.\tTake a list and write a program that prints out all the elements of the list that are less than 5. BONUS: Instead of printing the elements one by one, make a new list that has all the elements less than 5 from this list in it and print out this new list.\n",
    "4.\tGenerate a random number between 1 and 9 (including 1 and 9). Ask the user to guess the number, then tell them whether they guessed too low, too high, or exactly right. BONUS: Keep the game going until the user types “exit”\n",
    "5.\tWrite a program that takes a list of numbers (for example, a = [5, 10, 15, 20, 25]) and makes a new list of only the first and last elements of the given list.\n",
    "6.\tWrite a password generator in Python. Be creative with how you generate passwords - strong passwords have a mix of lowercase letters, uppercase letters, numbers, and symbols. The passwords should be random, generating a new password every time the user asks for a new password.\n"
   ]
  },
  {
   "cell_type": "code",
   "execution_count": 22,
   "id": "1a5c1f95",
   "metadata": {},
   "outputs": [
    {
     "name": "stdout",
     "output_type": "stream",
     "text": [
      "What is your name? Tinashe\n",
      "How old are you? 20\n",
      "Tinashe will be 100 years old in the year 2101.\n"
     ]
    }
   ],
   "source": [
    "# 1. Creating a program that asks the user to enter their name and their age.\n",
    "name = input(\"What is your name? \")\n",
    "age = int(input(\"How old are you? \"))\n",
    "year = (2021 - age) + 100\n",
    "\n",
    "print(f\"{name} will be 100 years old in the year {year}.\")"
   ]
  },
  {
   "cell_type": "code",
   "execution_count": 21,
   "id": "71253269",
   "metadata": {},
   "outputs": [
    {
     "name": "stdout",
     "output_type": "stream",
     "text": [
      "Enter a number: 2\n",
      "You picked an even number!\n"
     ]
    }
   ],
   "source": [
    "# 2. Ask the user for a number. Depending on whether the number is even or odd,\n",
    "# print out an appropriate message to the user.\n",
    "\n",
    "num = int(input(\"Enter a number: \"))\n",
    "\n",
    "if num % 2 == 0:\n",
    "    print(\"You picked an even number!\")\n",
    "else:\n",
    "    print(\"You picked an odd number!\")"
   ]
  },
  {
   "cell_type": "markdown",
   "id": "2e1aa0a3",
   "metadata": {},
   "source": [
    "##### 3. Take a list and write a program that prints out all the elements of the list that are less than 5. BONUS:\n",
    "\n",
    "numbers = [0, 1, 3, 2, 4, 5, 7, 6, 8, 10, 5, 3, 1, 0]\n",
    "\n",
    "for num in numbers:\n",
    "    if num < 5:\n",
    "        print(num)"
   ]
  },
  {
   "cell_type": "code",
   "execution_count": 20,
   "id": "a079c8cc",
   "metadata": {},
   "outputs": [
    {
     "name": "stdout",
     "output_type": "stream",
     "text": [
      "[0, 1, 3, 2, 4, 3, 1, 0]\n"
     ]
    }
   ],
   "source": [
    "# BONUS\n",
    "\n",
    "less_than_5 = []\n",
    "\n",
    "for num in numbers:\n",
    "    if num < 5:\n",
    "        less_than_5.append(num)\n",
    "print(less_than_5)"
   ]
  },
  {
   "cell_type": "code",
   "execution_count": 18,
   "id": "a9bfd4fe",
   "metadata": {},
   "outputs": [
    {
     "name": "stdout",
     "output_type": "stream",
     "text": [
      "Guess a number between 1 and 9 (enter 'exit' to quit): 2\n",
      "Too low!\n",
      "Guess a number between 1 and 9 (enter 'exit' to quit): 0\n",
      "Too low!\n",
      "Guess a number between 1 and 9 (enter 'exit' to quit): 3\n",
      "Too low!\n",
      "Guess a number between 1 and 9 (enter 'exit' to quit): exit\n"
     ]
    }
   ],
   "source": [
    "# 4. Generate a random number between 1 and 9 (including 1 and 9).\n",
    "# Ask the user to guess the number, then tell them whether they guessed too low, too high, or exactly right. BONUS:\n",
    "# Keep the game going until the user types “exit”\n",
    "\n",
    "import random as rd\n",
    "\n",
    "x = rd.randint(1, 9)\n",
    "\n",
    "play = True\n",
    "\n",
    "while play:\n",
    "    guess = input(\"Guess a number between 1 and 9 (enter 'exit' to quit): \")\n",
    "    \n",
    "    if guess == 'exit':\n",
    "        break\n",
    "    \n",
    "    elif int(guess) > x:\n",
    "        print(\"Too high!\")\n",
    "        \n",
    "    elif int(guess) < x:\n",
    "        print(\"Too low!\")\n",
    "        \n",
    "    elif int(guess) == x:\n",
    "        print(\"Correct!\")\n",
    "        break"
   ]
  },
  {
   "cell_type": "code",
   "execution_count": 11,
   "id": "18d92689",
   "metadata": {},
   "outputs": [],
   "source": [
    "# 5. Write a program that takes a list of numbers (for example, a = [5, 10, 15, 20, 25]) and \n",
    "# makes a new list of only the first and last elements of the given list.\n",
    "# define a list of numbers\n",
    "\n",
    "numbers = [0, 1, 3, 2, 4, 5, 7, 6, 8, 10, 5, 3, 1, 11]\n",
    "\n",
    "# define a list of letters\n",
    "\n",
    "letters = [\"r\", \"a\", \"d\", \"y\", \"p\", \"o\", \"x\", \"i\", \"t\"]"
   ]
  },
  {
   "cell_type": "code",
   "execution_count": 12,
   "id": "b6c9cb70",
   "metadata": {},
   "outputs": [],
   "source": [
    "# define a function to strip the first and last value from the list\n",
    "\n",
    "def begin_end(list_name):\n",
    "    new_list = []\n",
    "    first = list_name[0] ## first element of list\n",
    "    last = list_name[-1] ## last element of list\n",
    "    new_list.append(first)\n",
    "    new_list.append(last)\n",
    "    print(new_list)"
   ]
  },
  {
   "cell_type": "code",
   "execution_count": 15,
   "id": "5e50c0f1",
   "metadata": {},
   "outputs": [
    {
     "name": "stdout",
     "output_type": "stream",
     "text": [
      "[0, 11]\n"
     ]
    }
   ],
   "source": [
    "## apply the function to list of numbers\n",
    "\n",
    "begin_end(numbers)"
   ]
  },
  {
   "cell_type": "code",
   "execution_count": 16,
   "id": "a5d05b62",
   "metadata": {},
   "outputs": [
    {
     "name": "stdout",
     "output_type": "stream",
     "text": [
      "['r', 't']\n"
     ]
    }
   ],
   "source": [
    "## apply the function to list of letters\n",
    "\n",
    "begin_end(letters)"
   ]
  },
  {
   "cell_type": "code",
   "execution_count": 23,
   "id": "449f7a2d",
   "metadata": {},
   "outputs": [],
   "source": [
    "# 6. Write a password generator in Python. Be creative with how you generate passwords - \n",
    "# strong passwords have a mix of lowercase letters, uppercase letters, numbers, and symbols. \n",
    "# The passwords should be random, generating a new password every time the user asks for a new password.\n",
    "\n",
    "import random as rd\n",
    "\n",
    "#create strings to pull charaters from\n",
    "\n",
    "l_letters = \"abcdefghijklmnopqrstuvwxyz\"\n",
    "u_letters = \"ABCDEFGHIJKLMNOPQRSTUVWXYZ\"\n",
    "numbers = \"1234567890\"\n",
    "symbols = \"~`!@#$%^&*()_-+=|}]{[\\\"';:/?.>,<\""
   ]
  },
  {
   "cell_type": "code",
   "execution_count": 24,
   "id": "ca3ac4dd",
   "metadata": {},
   "outputs": [],
   "source": [
    "# pick random characters from the above strings and combine together to create a 10-digit passcode\n",
    "\n",
    "_1 = l_letters[rd.randint(0, 25)]\n",
    "_2 = l_letters[rd.randint(0, 25)]\n",
    "_3 = u_letters[rd.randint(0, 25)]\n",
    "_4 = u_letters[rd.randint(0, 25)]\n",
    "_5 = numbers[rd.randint(0,9)]\n",
    "_6 = numbers[rd.randint(0,9)]\n",
    "_7 = numbers[rd.randint(0,9)]\n",
    "_8 = symbols[rd.randint(0, 30)]\n",
    "_9 = symbols[rd.randint(0, 30)]\n",
    "_10 = symbols[rd.randint(0, 30)]"
   ]
  },
  {
   "cell_type": "code",
   "execution_count": 25,
   "id": "bce458d0",
   "metadata": {},
   "outputs": [],
   "source": [
    "# combine all the variables into a list\n",
    "\n",
    "password = [_1, _2, _3, _4, _5, _6, _7, _8, _9, _10]"
   ]
  },
  {
   "cell_type": "code",
   "execution_count": 27,
   "id": "37bb1f73",
   "metadata": {},
   "outputs": [
    {
     "name": "stdout",
     "output_type": "stream",
     "text": [
      "YOUR PASSWORD IS:\ttC0?6t6#0C\n"
     ]
    }
   ],
   "source": [
    "### randomize the passcode selections to print a final, scrambled password \n",
    "\n",
    "print(f\"YOUR PASSWORD IS:\\t{password[rd.randint(0,9)]}{password[rd.randint(0,9)]}{password[rd.randint(0,9)]}{password[rd.randint(0,9)]}{password[rd.randint(0,9)]}{password[rd.randint(0,9)]}{password[rd.randint(0,9)]}{password[rd.randint(0,9)]}{password[rd.randint(0,9)]}{password[rd.randint(0,9)]}\")"
   ]
  }
 ],
 "metadata": {
  "kernelspec": {
   "display_name": "Python 3 (ipykernel)",
   "language": "python",
   "name": "python3"
  },
  "language_info": {
   "codemirror_mode": {
    "name": "ipython",
    "version": 3
   },
   "file_extension": ".py",
   "mimetype": "text/x-python",
   "name": "python",
   "nbconvert_exporter": "python",
   "pygments_lexer": "ipython3",
   "version": "3.9.13"
  }
 },
 "nbformat": 4,
 "nbformat_minor": 5
}
